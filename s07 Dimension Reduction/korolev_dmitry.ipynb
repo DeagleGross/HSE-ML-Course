{
 "cells": [
  {
   "cell_type": "markdown",
   "metadata": {},
   "source": [
    "<h1><center>Data Analysis</center></h1>\n",
    "<h2><center>Homework: Feature Selection and Dimention Reduction. PCA </center></h2>"
   ]
  },
  {
   "cell_type": "code",
   "execution_count": 356,
   "metadata": {},
   "outputs": [],
   "source": [
    "%matplotlib inline\n",
    "\n",
    "from sklearn.metrics import accuracy_score\n",
    "import numpy as np\n",
    "import pandas as pd\n",
    "import matplotlib.pyplot as plt"
   ]
  },
  {
   "cell_type": "markdown",
   "metadata": {},
   "source": [
    "# Gender Recognition by Voice\n",
    "\n",
    "This database was created to identify a voice as male or female, based upon acoustic properties of the voice and speech. The dataset consists of 3,168 recorded voice samples, collected from male and female speakers. The voice samples are pre-processed by acoustic analysis in R using the seewave and tuneR packages, with an analyzed frequency range of 0hz-280hz (human vocal range).\n",
    "\n",
    "The following acoustic properties of each voice are measured and included within the CSV:\n",
    "\n",
    "* meanfreq: mean frequency (in kHz)\n",
    "* sd: standard deviation of frequency\n",
    "* median: median frequency (in kHz)\n",
    "* Q25: first quantile (in kHz)\n",
    "* Q75: third quantile (in kHz)\n",
    "* IQR: interquantile range (in kHz)\n",
    "* skew: skewness (see note in specprop description)\n",
    "* kurt: kurtosis (see note in specprop description)\n",
    "* sp.ent: spectral entropy\n",
    "* sfm: spectral flatness\n",
    "* mode: mode frequency\n",
    "* centroid: frequency centroid (see specprop)\n",
    "* peakf: peak frequency (frequency with highest energy)\n",
    "* meanfun: average of fundamental frequency measured across acoustic signal\n",
    "* minfun: minimum fundamental frequency measured across acoustic signal\n",
    "* maxfun: maximum fundamental frequency measured across acoustic signal\n",
    "* meandom: average of dominant frequency measured across acoustic signal\n",
    "* mindom: minimum of dominant frequency measured across acoustic signal\n",
    "* maxdom: maximum of dominant frequency measured across acoustic signal\n",
    "* dfrange: range of dominant frequency measured across acoustic signal\n",
    "* modindx: modulation index. Calculated as the accumulated absolute difference between adjacent measurements of fundamental frequencies divided by the frequency range\n",
    "* label: male or female"
   ]
  },
  {
   "cell_type": "code",
   "execution_count": 313,
   "metadata": {},
   "outputs": [
    {
     "name": "stdout",
     "output_type": "stream",
     "text": [
      "DataFrame shape:  (3168, 21)\n"
     ]
    },
    {
     "data": {
      "text/html": [
       "<div>\n",
       "<style scoped>\n",
       "    .dataframe tbody tr th:only-of-type {\n",
       "        vertical-align: middle;\n",
       "    }\n",
       "\n",
       "    .dataframe tbody tr th {\n",
       "        vertical-align: top;\n",
       "    }\n",
       "\n",
       "    .dataframe thead th {\n",
       "        text-align: right;\n",
       "    }\n",
       "</style>\n",
       "<table border=\"1\" class=\"dataframe\">\n",
       "  <thead>\n",
       "    <tr style=\"text-align: right;\">\n",
       "      <th></th>\n",
       "      <th>meanfreq</th>\n",
       "      <th>sd</th>\n",
       "      <th>median</th>\n",
       "      <th>Q25</th>\n",
       "      <th>Q75</th>\n",
       "      <th>IQR</th>\n",
       "      <th>skew</th>\n",
       "      <th>kurt</th>\n",
       "      <th>sp.ent</th>\n",
       "      <th>sfm</th>\n",
       "      <th>...</th>\n",
       "      <th>centroid</th>\n",
       "      <th>meanfun</th>\n",
       "      <th>minfun</th>\n",
       "      <th>maxfun</th>\n",
       "      <th>meandom</th>\n",
       "      <th>mindom</th>\n",
       "      <th>maxdom</th>\n",
       "      <th>dfrange</th>\n",
       "      <th>modindx</th>\n",
       "      <th>label</th>\n",
       "    </tr>\n",
       "  </thead>\n",
       "  <tbody>\n",
       "    <tr>\n",
       "      <th>0</th>\n",
       "      <td>0.059781</td>\n",
       "      <td>0.064241</td>\n",
       "      <td>0.032027</td>\n",
       "      <td>0.015071</td>\n",
       "      <td>0.090193</td>\n",
       "      <td>0.075122</td>\n",
       "      <td>12.863462</td>\n",
       "      <td>274.402906</td>\n",
       "      <td>0.893369</td>\n",
       "      <td>0.491918</td>\n",
       "      <td>...</td>\n",
       "      <td>0.059781</td>\n",
       "      <td>0.084279</td>\n",
       "      <td>0.015702</td>\n",
       "      <td>0.275862</td>\n",
       "      <td>0.007812</td>\n",
       "      <td>0.007812</td>\n",
       "      <td>0.007812</td>\n",
       "      <td>0.000000</td>\n",
       "      <td>0.000000</td>\n",
       "      <td>male</td>\n",
       "    </tr>\n",
       "    <tr>\n",
       "      <th>1</th>\n",
       "      <td>0.066009</td>\n",
       "      <td>0.067310</td>\n",
       "      <td>0.040229</td>\n",
       "      <td>0.019414</td>\n",
       "      <td>0.092666</td>\n",
       "      <td>0.073252</td>\n",
       "      <td>22.423285</td>\n",
       "      <td>634.613855</td>\n",
       "      <td>0.892193</td>\n",
       "      <td>0.513724</td>\n",
       "      <td>...</td>\n",
       "      <td>0.066009</td>\n",
       "      <td>0.107937</td>\n",
       "      <td>0.015826</td>\n",
       "      <td>0.250000</td>\n",
       "      <td>0.009014</td>\n",
       "      <td>0.007812</td>\n",
       "      <td>0.054688</td>\n",
       "      <td>0.046875</td>\n",
       "      <td>0.052632</td>\n",
       "      <td>male</td>\n",
       "    </tr>\n",
       "    <tr>\n",
       "      <th>2</th>\n",
       "      <td>0.077316</td>\n",
       "      <td>0.083829</td>\n",
       "      <td>0.036718</td>\n",
       "      <td>0.008701</td>\n",
       "      <td>0.131908</td>\n",
       "      <td>0.123207</td>\n",
       "      <td>30.757155</td>\n",
       "      <td>1024.927705</td>\n",
       "      <td>0.846389</td>\n",
       "      <td>0.478905</td>\n",
       "      <td>...</td>\n",
       "      <td>0.077316</td>\n",
       "      <td>0.098706</td>\n",
       "      <td>0.015656</td>\n",
       "      <td>0.271186</td>\n",
       "      <td>0.007990</td>\n",
       "      <td>0.007812</td>\n",
       "      <td>0.015625</td>\n",
       "      <td>0.007812</td>\n",
       "      <td>0.046512</td>\n",
       "      <td>male</td>\n",
       "    </tr>\n",
       "    <tr>\n",
       "      <th>3</th>\n",
       "      <td>0.151228</td>\n",
       "      <td>0.072111</td>\n",
       "      <td>0.158011</td>\n",
       "      <td>0.096582</td>\n",
       "      <td>0.207955</td>\n",
       "      <td>0.111374</td>\n",
       "      <td>1.232831</td>\n",
       "      <td>4.177296</td>\n",
       "      <td>0.963322</td>\n",
       "      <td>0.727232</td>\n",
       "      <td>...</td>\n",
       "      <td>0.151228</td>\n",
       "      <td>0.088965</td>\n",
       "      <td>0.017798</td>\n",
       "      <td>0.250000</td>\n",
       "      <td>0.201497</td>\n",
       "      <td>0.007812</td>\n",
       "      <td>0.562500</td>\n",
       "      <td>0.554688</td>\n",
       "      <td>0.247119</td>\n",
       "      <td>male</td>\n",
       "    </tr>\n",
       "    <tr>\n",
       "      <th>4</th>\n",
       "      <td>0.135120</td>\n",
       "      <td>0.079146</td>\n",
       "      <td>0.124656</td>\n",
       "      <td>0.078720</td>\n",
       "      <td>0.206045</td>\n",
       "      <td>0.127325</td>\n",
       "      <td>1.101174</td>\n",
       "      <td>4.333713</td>\n",
       "      <td>0.971955</td>\n",
       "      <td>0.783568</td>\n",
       "      <td>...</td>\n",
       "      <td>0.135120</td>\n",
       "      <td>0.106398</td>\n",
       "      <td>0.016931</td>\n",
       "      <td>0.266667</td>\n",
       "      <td>0.712812</td>\n",
       "      <td>0.007812</td>\n",
       "      <td>5.484375</td>\n",
       "      <td>5.476562</td>\n",
       "      <td>0.208274</td>\n",
       "      <td>male</td>\n",
       "    </tr>\n",
       "  </tbody>\n",
       "</table>\n",
       "<p>5 rows × 21 columns</p>\n",
       "</div>"
      ],
      "text/plain": [
       "   meanfreq        sd    median       Q25       Q75       IQR       skew  \\\n",
       "0  0.059781  0.064241  0.032027  0.015071  0.090193  0.075122  12.863462   \n",
       "1  0.066009  0.067310  0.040229  0.019414  0.092666  0.073252  22.423285   \n",
       "2  0.077316  0.083829  0.036718  0.008701  0.131908  0.123207  30.757155   \n",
       "3  0.151228  0.072111  0.158011  0.096582  0.207955  0.111374   1.232831   \n",
       "4  0.135120  0.079146  0.124656  0.078720  0.206045  0.127325   1.101174   \n",
       "\n",
       "          kurt    sp.ent       sfm  ...  centroid   meanfun    minfun  \\\n",
       "0   274.402906  0.893369  0.491918  ...  0.059781  0.084279  0.015702   \n",
       "1   634.613855  0.892193  0.513724  ...  0.066009  0.107937  0.015826   \n",
       "2  1024.927705  0.846389  0.478905  ...  0.077316  0.098706  0.015656   \n",
       "3     4.177296  0.963322  0.727232  ...  0.151228  0.088965  0.017798   \n",
       "4     4.333713  0.971955  0.783568  ...  0.135120  0.106398  0.016931   \n",
       "\n",
       "     maxfun   meandom    mindom    maxdom   dfrange   modindx  label  \n",
       "0  0.275862  0.007812  0.007812  0.007812  0.000000  0.000000   male  \n",
       "1  0.250000  0.009014  0.007812  0.054688  0.046875  0.052632   male  \n",
       "2  0.271186  0.007990  0.007812  0.015625  0.007812  0.046512   male  \n",
       "3  0.250000  0.201497  0.007812  0.562500  0.554688  0.247119   male  \n",
       "4  0.266667  0.712812  0.007812  5.484375  5.476562  0.208274   male  \n",
       "\n",
       "[5 rows x 21 columns]"
      ]
     },
     "execution_count": 313,
     "metadata": {},
     "output_type": "execute_result"
    }
   ],
   "source": [
    "# Read data sample\n",
    "data = pd.read_csv(\"data/voice.csv\")\n",
    "print(\"DataFrame shape: \", data.shape)\n",
    "data.head()"
   ]
  },
  {
   "cell_type": "markdown",
   "metadata": {},
   "source": [
    "## Data Preparation\n"
   ]
  },
  {
   "cell_type": "code",
   "execution_count": 314,
   "metadata": {},
   "outputs": [
    {
     "name": "stdout",
     "output_type": "stream",
     "text": [
      "Feature names:  Index(['meanfreq', 'sd', 'median', 'Q25', 'Q75', 'IQR', 'skew', 'kurt',\n",
      "       'sp.ent', 'sfm', 'mode', 'centroid', 'meanfun', 'minfun', 'maxfun',\n",
      "       'meandom', 'mindom', 'maxdom', 'dfrange', 'modindx'],\n",
      "      dtype='object')\n"
     ]
    }
   ],
   "source": [
    "# Get feature names\n",
    "feature_names = data.columns.drop(['label'])\n",
    "print(\"Feature names: \", feature_names)"
   ]
  },
  {
   "cell_type": "code",
   "execution_count": 315,
   "metadata": {},
   "outputs": [],
   "source": [
    "# Prepare X and y\n",
    "X = data[feature_names].values\n",
    "y = 1. * (data['label'].values == 'male')"
   ]
  },
  {
   "cell_type": "markdown",
   "metadata": {},
   "source": [
    "## Train / Test Split + Standardization\n",
    "\n",
    "We perform standartization to provide you possibility to use any classifier you know without any difficulties induced by feature scales. "
   ]
  },
  {
   "cell_type": "code",
   "execution_count": 316,
   "metadata": {},
   "outputs": [],
   "source": [
    "from sklearn.model_selection import train_test_split\n",
    "from sklearn.preprocessing import StandardScaler\n",
    "\n",
    "# Split data into train and test samples\n",
    "X_train, X_test, y_train, y_test = train_test_split(X, y, test_size=0.5, random_state=42)\n",
    "\n",
    "# Standardization\n",
    "ss = StandardScaler()\n",
    "ss.fit(X_train)\n",
    "\n",
    "X_train = ss.transform(X_train)\n",
    "X_test = ss.transform(X_test)"
   ]
  },
  {
   "cell_type": "markdown",
   "metadata": {},
   "source": [
    "## Classifier Selection\n",
    "\n",
    "Generally, tasks below can be done with any classifier, but we ask you to provide answers with Decision Tree classifier with the following hyperparameters (don't touch this):"
   ]
  },
  {
   "cell_type": "code",
   "execution_count": 317,
   "metadata": {},
   "outputs": [],
   "source": [
    "from sklearn.tree import DecisionTreeClassifier\n",
    "clf = DecisionTreeClassifier(criterion='gini', max_depth=5, random_state=42)"
   ]
  },
  {
   "cell_type": "markdown",
   "metadata": {},
   "source": [
    "# Task 1 (1 point)\n",
    "\n",
    "Find just **one** feature, that provides the best classification accuracy. What is the name of this feature? Save name in variable first_best_feature and go through assert\n",
    "\n",
    "Hint: in **for** loop use one feature in the sample to train the classifier. Then, calculate the classification accuracy on the test sample."
   ]
  },
  {
   "cell_type": "code",
   "execution_count": 318,
   "metadata": {},
   "outputs": [
    {
     "data": {
      "text/plain": [
       "Index(['meanfreq', 'sd', 'median', 'Q25', 'Q75', 'IQR', 'skew', 'kurt',\n",
       "       'sp.ent', 'sfm', 'mode', 'centroid', 'meanfun', 'minfun', 'maxfun',\n",
       "       'meandom', 'mindom', 'maxdom', 'dfrange', 'modindx'],\n",
       "      dtype='object')"
      ]
     },
     "execution_count": 318,
     "metadata": {},
     "output_type": "execute_result"
    }
   ],
   "source": [
    "feature_names"
   ]
  },
  {
   "cell_type": "code",
   "execution_count": 319,
   "metadata": {},
   "outputs": [],
   "source": [
    "def mape(y_true, y_pred):\n",
    "    error_sum = 0\n",
    "    \n",
    "    for i in range(len(y_true)):\n",
    "        true = y_true[i]\n",
    "        pred = y_pred[i]\n",
    "        \n",
    "        if (true != pred):\n",
    "            error_sum += 1\n",
    "    \n",
    "    return error_sum / len(y_true) * 100"
   ]
  },
  {
   "cell_type": "code",
   "execution_count": 320,
   "metadata": {},
   "outputs": [],
   "source": [
    "def find_best_feature(X_train, X_test, y_train, y_test, feature_names):\n",
    "    indexes = np.arange(X_train.shape[1])\n",
    "    best_error_percent = 101\n",
    "    best_feature = 'not defined'\n",
    "    \n",
    "    for index in range(len(indexes)):\n",
    "        clf.fit(X_train[:, [index]], y_train)\n",
    "        error = mape(y_test, clf.predict(X_test[:, [index]]))\n",
    "        if (error < best_error_percent):\n",
    "            best_error_percent = error\n",
    "            best_feature = feature_names[index]\n",
    "    \n",
    "    return best_error_percent, best_feature"
   ]
  },
  {
   "cell_type": "code",
   "execution_count": 321,
   "metadata": {},
   "outputs": [
    {
     "name": "stdout",
     "output_type": "stream",
     "text": [
      "first best feature \" meanfun \" has  6.502525252525253  % error\n"
     ]
    }
   ],
   "source": [
    "min_error, first_best_feature = find_best_feature(X_train, X_test, y_train, y_test, feature_names)\n",
    "print('first best feature \"', first_best_feature, '\" has ', min_error, ' % error')"
   ]
  },
  {
   "cell_type": "code",
   "execution_count": 322,
   "metadata": {},
   "outputs": [],
   "source": [
    "assert(first_best_feature == 'meanfun')"
   ]
  },
  {
   "cell_type": "markdown",
   "metadata": {},
   "source": [
    "# Task 2 (2 points)\n",
    "\n",
    "Now you know the first best feature of the sample. In this task you need to find the second best feature. What are the names of these features?\n",
    "\n",
    "Save answer in variables first_best_feature and second_best_feature and go through assert\n",
    "\n",
    "Hint: in **for** loop use **two** features to train the classifier. One of the two features is the found best feature from Task 1, the second feature is a new one. "
   ]
  },
  {
   "cell_type": "code",
   "execution_count": 329,
   "metadata": {},
   "outputs": [],
   "source": [
    "# i didn't know i needed here to get only 2 so i've implemented code to get all features. \n",
    "# in code i've placed that ill stop when found 2 best features\n",
    "\n",
    "def find_features_and_accuracies(X_train, X_test, y_train, y_test, feature_names):\n",
    "    sorted_indexes = []\n",
    "    sorted_features = []\n",
    "    sorted_accuracies = []\n",
    "    \n",
    "    indexes = np.arange(0, len(feature_names))\n",
    "    \n",
    "    # filling sorted_features with 2 features !!!!!!!!!!!!!!!!!!!!!!!!!!!!!!!!!!!!!!!!!!!\n",
    "    while (len(sorted_features) != 2):\n",
    "        min_error = 101\n",
    "        index = -1\n",
    "        \n",
    "        # adding new feature to list    \n",
    "        for i in range(len(feature_names)):\n",
    "            # not including already taken feature\n",
    "            if (i in sorted_indexes):\n",
    "                continue\n",
    "            \n",
    "            current_iteration_features = sorted_indexes[:]\n",
    "            current_iteration_features.append(i)\n",
    "            \n",
    "            # training on included features + new one iteratable\n",
    "            clf.fit(X_train[:, current_iteration_features], y_train)\n",
    "            error = mape(y_test, clf.predict(X_test[:, current_iteration_features]))\n",
    "            \n",
    "            if (error < min_error):\n",
    "                min_error = error\n",
    "                index = i\n",
    "            \n",
    "        # adding new feature to list\n",
    "        sorted_accuracies.append(100 - min_error)\n",
    "        sorted_indexes.append(index)\n",
    "        sorted_features.append(feature_names[index])\n",
    "    \n",
    "    return sorted_features, sorted_accuracies"
   ]
  },
  {
   "cell_type": "code",
   "execution_count": 334,
   "metadata": {
    "scrolled": true
   },
   "outputs": [],
   "source": [
    "sorted_features, sorted_accuracies = find_features_and_accuracies(X_train, X_test, y_train, y_test, feature_names)\n",
    "\n",
    "first_best_feature = sorted_features[0]\n",
    "second_best_feature = sorted_features[1]"
   ]
  },
  {
   "cell_type": "code",
   "execution_count": 335,
   "metadata": {},
   "outputs": [],
   "source": [
    "assert(first_best_feature == 'meanfun' and second_best_feature == 'Q75')"
   ]
  },
  {
   "cell_type": "markdown",
   "metadata": {},
   "source": [
    "# Task 3 (4 points)\n",
    "\n",
    "Great! As you can guess, now your task is to find the best 3 features, the best 4 features, ...., the best 20 features :) Use the silimilar approach as in Task 2.\n",
    "\n",
    "For the each N best features calculate the classification accuracy. Plot dependency of the accuracy from N. Print list of the following pairs of values: (Name of the N-th best feature, accuracy).\n",
    "\n",
    "The output example:"
   ]
  },
  {
   "cell_type": "code",
   "execution_count": 336,
   "metadata": {},
   "outputs": [],
   "source": [
    "def find_features_and_accuracies(X_train, X_test, y_train, y_test, feature_names):\n",
    "    sorted_indexes = []\n",
    "    sorted_features = []\n",
    "    sorted_accuracies = []\n",
    "    \n",
    "    indexes = np.arange(0, len(feature_names))\n",
    "    \n",
    "    # filling sorted_features with all other features\n",
    "    while (len(sorted_features) != len(feature_names)):\n",
    "        min_error = 101\n",
    "        index = -1\n",
    "        \n",
    "        # adding new feature to list    \n",
    "        for i in range(len(feature_names)):\n",
    "            # not including already taken feature\n",
    "            if (i in sorted_indexes):\n",
    "                continue\n",
    "            \n",
    "            current_iteration_features = sorted_indexes[:]\n",
    "            current_iteration_features.append(i)\n",
    "            \n",
    "            # training on included features + new one iteratable\n",
    "            clf.fit(X_train[:, current_iteration_features], y_train)\n",
    "            error = mape(y_test, clf.predict(X_test[:, current_iteration_features]))\n",
    "            \n",
    "            if (error < min_error):\n",
    "                min_error = error\n",
    "                index = i\n",
    "            \n",
    "        # adding new feature to list\n",
    "        sorted_accuracies.append(100 - min_error)\n",
    "        sorted_indexes.append(index)\n",
    "        sorted_features.append(feature_names[index])\n",
    "    \n",
    "    return sorted_features, sorted_accuracies"
   ]
  },
  {
   "cell_type": "code",
   "execution_count": 345,
   "metadata": {},
   "outputs": [
    {
     "data": {
      "image/png": "[encoded data removed]",
      "text/plain": [
       "<Figure size 648x432 with 1 Axes>"
      ]
     },
     "metadata": {
      "needs_background": "light"
     },
     "output_type": "display_data"
    }
   ],
   "source": [
    "sorted_features, sorted_accuracies = find_features_and_accuracies(X_train, X_test, y_train, y_test, feature_names)\n",
    "\n",
    "n_best_features = np.arange(1, 21)\n",
    "n_best_names = sorted_features # You need to find the correct order\n",
    "n_best_accuracies = sorted_accuracies # You need to calculate these accuracies\n",
    "\n",
    "plt.figure(figsize=(9, 6))\n",
    "plt.plot(n_best_features, n_best_accuracies, color='b', linewidth=3)\n",
    "plt.xticks(n_best_features, size=14)\n",
    "plt.xlabel(\"N best features\", size=14)\n",
    "plt.yticks(size=14)\n",
    "plt.ylabel(\"Accuracy\", size=14)\n",
    "plt.grid(b=1)\n",
    "plt.show()"
   ]
  },
  {
   "cell_type": "code",
   "execution_count": 346,
   "metadata": {},
   "outputs": [
    {
     "data": {
      "text/html": [
       "<div>\n",
       "<style scoped>\n",
       "    .dataframe tbody tr th:only-of-type {\n",
       "        vertical-align: middle;\n",
       "    }\n",
       "\n",
       "    .dataframe tbody tr th {\n",
       "        vertical-align: top;\n",
       "    }\n",
       "\n",
       "    .dataframe thead th {\n",
       "        text-align: right;\n",
       "    }\n",
       "</style>\n",
       "<table border=\"1\" class=\"dataframe\">\n",
       "  <thead>\n",
       "    <tr style=\"text-align: right;\">\n",
       "      <th></th>\n",
       "      <th>Name</th>\n",
       "      <th>Accuracy</th>\n",
       "    </tr>\n",
       "  </thead>\n",
       "  <tbody>\n",
       "    <tr>\n",
       "      <th>0</th>\n",
       "      <td>meanfun</td>\n",
       "      <td>93.497475</td>\n",
       "    </tr>\n",
       "    <tr>\n",
       "      <th>1</th>\n",
       "      <td>Q75</td>\n",
       "      <td>96.022727</td>\n",
       "    </tr>\n",
       "    <tr>\n",
       "      <th>2</th>\n",
       "      <td>IQR</td>\n",
       "      <td>97.032828</td>\n",
       "    </tr>\n",
       "    <tr>\n",
       "      <th>3</th>\n",
       "      <td>sp.ent</td>\n",
       "      <td>97.159091</td>\n",
       "    </tr>\n",
       "    <tr>\n",
       "      <th>4</th>\n",
       "      <td>minfun</td>\n",
       "      <td>97.159091</td>\n",
       "    </tr>\n",
       "    <tr>\n",
       "      <th>5</th>\n",
       "      <td>mode</td>\n",
       "      <td>97.285354</td>\n",
       "    </tr>\n",
       "    <tr>\n",
       "      <th>6</th>\n",
       "      <td>kurt</td>\n",
       "      <td>97.348485</td>\n",
       "    </tr>\n",
       "    <tr>\n",
       "      <th>7</th>\n",
       "      <td>skew</td>\n",
       "      <td>97.222222</td>\n",
       "    </tr>\n",
       "    <tr>\n",
       "      <th>8</th>\n",
       "      <td>maxfun</td>\n",
       "      <td>97.222222</td>\n",
       "    </tr>\n",
       "    <tr>\n",
       "      <th>9</th>\n",
       "      <td>mindom</td>\n",
       "      <td>96.969697</td>\n",
       "    </tr>\n",
       "    <tr>\n",
       "      <th>10</th>\n",
       "      <td>Q25</td>\n",
       "      <td>97.032828</td>\n",
       "    </tr>\n",
       "    <tr>\n",
       "      <th>11</th>\n",
       "      <td>meanfreq</td>\n",
       "      <td>97.159091</td>\n",
       "    </tr>\n",
       "    <tr>\n",
       "      <th>12</th>\n",
       "      <td>sd</td>\n",
       "      <td>97.095960</td>\n",
       "    </tr>\n",
       "    <tr>\n",
       "      <th>13</th>\n",
       "      <td>sfm</td>\n",
       "      <td>97.032828</td>\n",
       "    </tr>\n",
       "    <tr>\n",
       "      <th>14</th>\n",
       "      <td>median</td>\n",
       "      <td>97.222222</td>\n",
       "    </tr>\n",
       "    <tr>\n",
       "      <th>15</th>\n",
       "      <td>centroid</td>\n",
       "      <td>97.159091</td>\n",
       "    </tr>\n",
       "    <tr>\n",
       "      <th>16</th>\n",
       "      <td>maxdom</td>\n",
       "      <td>97.032828</td>\n",
       "    </tr>\n",
       "    <tr>\n",
       "      <th>17</th>\n",
       "      <td>meandom</td>\n",
       "      <td>97.032828</td>\n",
       "    </tr>\n",
       "    <tr>\n",
       "      <th>18</th>\n",
       "      <td>dfrange</td>\n",
       "      <td>96.906566</td>\n",
       "    </tr>\n",
       "    <tr>\n",
       "      <th>19</th>\n",
       "      <td>modindx</td>\n",
       "      <td>96.906566</td>\n",
       "    </tr>\n",
       "  </tbody>\n",
       "</table>\n",
       "</div>"
      ],
      "text/plain": [
       "        Name   Accuracy\n",
       "0    meanfun  93.497475\n",
       "1        Q75  96.022727\n",
       "2        IQR  97.032828\n",
       "3     sp.ent  97.159091\n",
       "4     minfun  97.159091\n",
       "5       mode  97.285354\n",
       "6       kurt  97.348485\n",
       "7       skew  97.222222\n",
       "8     maxfun  97.222222\n",
       "9     mindom  96.969697\n",
       "10       Q25  97.032828\n",
       "11  meanfreq  97.159091\n",
       "12        sd  97.095960\n",
       "13       sfm  97.032828\n",
       "14    median  97.222222\n",
       "15  centroid  97.159091\n",
       "16    maxdom  97.032828\n",
       "17   meandom  97.032828\n",
       "18   dfrange  96.906566\n",
       "19   modindx  96.906566"
      ]
     },
     "execution_count": 346,
     "metadata": {},
     "output_type": "execute_result"
    }
   ],
   "source": [
    "report = pd.DataFrame()\n",
    "report['Name'] = n_best_names\n",
    "report['Accuracy'] = n_best_accuracies\n",
    "report"
   ]
  },
  {
   "cell_type": "code",
   "execution_count": 347,
   "metadata": {},
   "outputs": [],
   "source": [
    "assert list(report['Name'] == ['meanfun', 'Q75', 'IQR', 'sp.ent', 'minfun', 'mode', 'kurt', 'skew', 'maxfun', 'mindom', 'Q25', 'meanfreq', 'sd', 'sfm', 'median', 'centroid', 'maxdom', 'meandom', 'dfrange', 'modindx'])"
   ]
  },
  {
   "cell_type": "markdown",
   "metadata": {},
   "source": [
    "# Task 4 (2 points)\n",
    "\n",
    "Well, now let's use PCA. Plot the dependency of the classification accuracy from the number of components of PCA. Vary the number of components from 1 to 20. Do you have the same accuracies for one PCA component and for the first best feature from Task 1? How do you explain it?\n",
    "\n",
    "In this task you can use PCA from seminar or PCA from sklearn\n",
    "\n",
    "The output example:"
   ]
  },
  {
   "cell_type": "code",
   "execution_count": 348,
   "metadata": {},
   "outputs": [],
   "source": [
    "# PCA from seminar\n",
    "\n",
    "class MyPCA(object):\n",
    "    \n",
    "    def __init__(self, n_components=1):\n",
    "        \"\"\"\n",
    "        This class performs PCA.\n",
    "        \n",
    "        Parameters\n",
    "        ----------\n",
    "        n_components : int\n",
    "            Number of the first principle components to use.\n",
    "        \"\"\"\n",
    "        \n",
    "        self.n_components = n_components\n",
    "        self.means = None\n",
    "        self.stds = None\n",
    "        self.A = None\n",
    "        self.eig_vals = None\n",
    "        self.eig_vecs = None\n",
    "        \n",
    "        \n",
    "    def _normalize(self, X, is_fit=True):\n",
    "        \"\"\"\n",
    "        This method centers and scales input data.\n",
    "        \n",
    "        Parameters\n",
    "        ----------\n",
    "        X : numpy.ndarray\n",
    "            Input data sample with shape=[n_objects, n_features]\n",
    "            \n",
    "        Returns\n",
    "        -------\n",
    "        X_center : numpy.ndarray\n",
    "            Centered and scaled input data sample with shape=[n_objects, n_features]\n",
    "        \"\"\"\n",
    "        if is_fit:\n",
    "            self.means = X.mean(axis=0)\n",
    "            self.stds = X.std(axis=0)\n",
    "            \n",
    "        X_center = ( X - self.means ) / self.stds\n",
    "        \n",
    "        return X_center\n",
    "        \n",
    "    \n",
    "    def fit(self, X):\n",
    "        \"\"\"\n",
    "        This method searches for the first eigenvectors for PCA.\n",
    "        \n",
    "        Parameters\n",
    "        ----------\n",
    "        X : numpy.ndarray\n",
    "            Input data smaple with shape=[n_objects, n_features]\n",
    "        \"\"\"\n",
    "        \n",
    "        # Centering (and scaling)\n",
    "        X_center = self._normalize(X)\n",
    "        \n",
    "        # Calculate covariance matrix\n",
    "        C = np.dot(X_center.T, X_center)\n",
    "        \n",
    "        # Find eigenvalues and eigenvectors\n",
    "        self.eig_vals, self.eig_vecs = np.linalg.eig(C)\n",
    "        self.eig_vecs = self.eig_vecs.T\n",
    "        \n",
    "        # Sort eigenvalues\n",
    "        sorted_indeces = self.eig_vals.argsort()[::-1]\n",
    "        \n",
    "        # Take the first n_components\n",
    "        if self.n_components > len(self.eig_vecs):\n",
    "            print(\"Are you crazy?! You want more components that I have. I'll give only \", str(len(self.eig_vecs)))\n",
    "        n_first_indeces = sorted_indeces[:self.n_components]\n",
    "        self.A = self.eig_vecs[n_first_indeces].T\n",
    "        \n",
    "        \n",
    "    def transform(self, X):\n",
    "        \"\"\"\n",
    "        Performs projections on the selected components.\n",
    "        \n",
    "        Parameters\n",
    "        ----------\n",
    "        X : numpy.ndarray\n",
    "            Input data smaple with shape=[n_objects, n_features]\n",
    "            \n",
    "        Returns\n",
    "        -------\n",
    "        X_pca : numpy.ndarray\n",
    "            Transformed input data smaple with shape=[n_objects, n_components]\n",
    "        \"\"\"\n",
    "        \n",
    "        if self.A is None:\n",
    "            print(\"Hey! What are you doing? Fit me firstly.\")\n",
    "            return X\n",
    "        \n",
    "        # Centering (and scaling)\n",
    "        X_center = self._normalize(X, is_fit=False)\n",
    "            \n",
    "        # Perform projection\n",
    "        X_pca = np.dot(X_center, self.A)\n",
    "        \n",
    "        return X_pca"
   ]
  },
  {
   "cell_type": "code",
   "execution_count": 357,
   "metadata": {},
   "outputs": [],
   "source": [
    "pca_accuracies = []\n",
    "\n",
    "for i in range(20):\n",
    "    pca = MyPCA(n_components= i+1)\n",
    "    pca.fit(X_train)\n",
    "    X_train_pca = pca.transform(X_train)\n",
    "    X_test_pca = pca.transform(X_test)\n",
    "    \n",
    "    # fit CLF\n",
    "    clf.fit(X_train_pca, y_train)\n",
    "    \n",
    "    y_test_predict = clf.predict(X_test_pca)\n",
    "    y_test_proba = clf.predict_proba(X_test_pca)[:, 1]\n",
    "    \n",
    "    # Calculate quality metrics\n",
    "    accuracy = accuracy_score(y_test, y_test_predict)\n",
    "    pca_accuracies.append(accuracy)"
   ]
  },
  {
   "cell_type": "code",
   "execution_count": 361,
   "metadata": {},
   "outputs": [
    {
     "data": {
      "image/png": "[encoded data removed]",
      "text/plain": [
       "<Figure size 648x432 with 1 Axes>"
      ]
     },
     "metadata": {
      "needs_background": "light"
     },
     "output_type": "display_data"
    }
   ],
   "source": [
    "pca_components = np.arange(1, 21)\n",
    "\n",
    "plt.figure(figsize=(9, 6))\n",
    "plt.plot(pca_components, pca_accuracies, color='b', linewidth=3)\n",
    "plt.xticks(pca_components, size=14)\n",
    "plt.xlabel(\"N components of PCA\", size=14)\n",
    "plt.yticks(size=14)\n",
    "plt.ylabel(\"Accuracy\", size=14)\n",
    "plt.grid(b=1)\n",
    "plt.show()"
   ]
  },
  {
   "cell_type": "code",
   "execution_count": 363,
   "metadata": {},
   "outputs": [
    {
     "name": "stdout",
     "output_type": "stream",
     "text": [
      "[0.7146464646464646, 0.8333333333333334, 0.8320707070707071, 0.851010101010101, 0.9109848484848485, 0.9084595959595959, 0.9027777777777778, 0.8977272727272727, 0.9147727272727273, 0.9191919191919192, 0.9147727272727273, 0.9128787878787878, 0.9210858585858586, 0.9217171717171717, 0.9191919191919192, 0.9191919191919192, 0.9223484848484849, 0.9191919191919192, 0.9147727272727273, 0.9160353535353535]\n"
     ]
    },
    {
     "data": {
      "text/plain": [
       "'\\nPca for 1 component brings less accuracy because vector that PCA has found is oriented among ALL X values.\\nThat means pca gets a lot of useless data. You can see that there is a rapid jump from 0.71 to 0.83 accuracy\\nonly when 2-nd component is added to PCA. It is because PCA needs at least 2-3-4 components to find really needed data.\\n'"
      ]
     },
     "execution_count": 363,
     "metadata": {},
     "output_type": "execute_result"
    }
   ],
   "source": [
    "print(pca_accuracies)\n",
    "\n",
    "'''\n",
    "Pca for 1 component brings less accuracy because vector that PCA has found is oriented among ALL X values.\n",
    "That means pca gets a lot of useless data. You can see that there is a rapid jump from 0.71 to 0.83 accuracy\n",
    "only when 2-nd component is added to PCA. It is because PCA needs at least 2-3-4 components to find really needed data.\n",
    "'''"
   ]
  },
  {
   "cell_type": "markdown",
   "metadata": {},
   "source": [
    "# Task 5 (1 point)\n",
    "\n",
    "Plot explained variance and cumulative explained variance for the PCA at every number of components."
   ]
  },
  {
   "cell_type": "code",
   "execution_count": 374,
   "metadata": {},
   "outputs": [],
   "source": [
    "# Fit PCA\n",
    "pca = MyPCA(n_components=20)\n",
    "pca.fit(X_train)\n",
    "\n",
    "# Take all eigenvalues\n",
    "eigenvalues = pca.eig_vals\n",
    "\n",
    "# Sort eigenvalues\n",
    "eigenvalues = np.sort(eigenvalues)[::-1]"
   ]
  },
  {
   "cell_type": "code",
   "execution_count": 375,
   "metadata": {},
   "outputs": [
    {
     "data": {
      "text/plain": [
       "array([ 1.44026590e+04,  3.82407679e+03,  3.38965971e+03,  2.34490863e+03,\n",
       "        1.69726396e+03,  1.46790792e+03,  1.01542278e+03,  8.94857374e+02,\n",
       "        7.66380247e+02,  5.85262194e+02,  5.22119080e+02,  2.90330095e+02,\n",
       "        2.18466103e+02,  1.54197519e+02,  7.36170686e+01,  2.04394902e+01,\n",
       "        1.24320340e+01,  2.03717560e-13,  1.19058237e-13, -1.92740179e-13])"
      ]
     },
     "execution_count": 375,
     "metadata": {},
     "output_type": "execute_result"
    }
   ],
   "source": [
    "eigenvalues"
   ]
  },
  {
   "cell_type": "code",
   "execution_count": 376,
   "metadata": {},
   "outputs": [],
   "source": [
    "pca_components = np.arange(1, 21)\n",
    "\n",
    "# Calculate explained variance\n",
    "explained_variance = eigenvalues / eigenvalues.sum()\n",
    "\n",
    "# Calculate cumulative explained variance\n",
    "cumsum_explained_variance = np.cumsum(explained_variance)"
   ]
  },
  {
   "cell_type": "code",
   "execution_count": 377,
   "metadata": {},
   "outputs": [
    {
     "data": {
      "image/png": "[encoded data removed]",
      "text/plain": [
       "<Figure size 1296x432 with 2 Axes>"
      ]
     },
     "metadata": {
      "needs_background": "light"
     },
     "output_type": "display_data"
    }
   ],
   "source": [
    "plt.figure(figsize=(18, 6))\n",
    "\n",
    "plt.subplot(1, 2, 1)\n",
    "plt.plot(pca_components, explained_variance, color='b', linewidth=3)\n",
    "plt.xticks(pca_components, size=14)\n",
    "plt.xlabel(\"N components of PCA\", size=14)\n",
    "plt.yticks(size=14)\n",
    "plt.ylabel(\"Explained Variance\", size=14)\n",
    "plt.title(\"PCA Explained Variance\", size=14)\n",
    "plt.grid(b=1)\n",
    "\n",
    "\n",
    "plt.subplot(1, 2, 2)\n",
    "plt.plot(pca_components, cumsum_explained_variance, color='b', linewidth=3)\n",
    "plt.xticks(pca_components, size=14)\n",
    "plt.xlabel(\"N components of PCA\", size=14)\n",
    "plt.yticks(size=14)\n",
    "plt.ylabel(\"Explained Variance\", size=14)\n",
    "plt.title(\"PCA Cumulative Explained Variance\", size=14)\n",
    "plt.grid(b=1)\n",
    "\n",
    "\n",
    "plt.show()"
   ]
  }
 ],
 "metadata": {
  "kernelspec": {
   "display_name": "Python 3",
   "language": "python",
   "name": "python3"
  },
  "language_info": {
   "codemirror_mode": {
    "name": "ipython",
    "version": 3
   },
   "file_extension": ".py",
   "mimetype": "text/x-python",
   "name": "python",
   "nbconvert_exporter": "python",
   "pygments_lexer": "ipython3",
   "version": "3.7.3"
  }
 },
 "nbformat": 4,
 "nbformat_minor": 2
}
