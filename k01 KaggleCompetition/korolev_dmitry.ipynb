{
 "cells": [
  {
   "cell_type": "markdown",
   "metadata": {},
   "source": [
    "### because of long running tasks and Tokenization of urls (it didnt work locally on Jupyter)\n",
    "### so please launch it in google collab (it has to work there)"
   ]
  },
  {
   "cell_type": "code",
   "execution_count": 122,
   "metadata": {
    "colab": {
     "base_uri": "https://localhost:8080/",
     "height": 34
    },
    "colab_type": "code",
    "id": "UCuvWjgwyDkw",
    "outputId": "82bda25e-ba94-4d07-c0f7-a394183c8575"
   },
   "outputs": [
    {
     "name": "stdout",
     "output_type": "stream",
     "text": [
      "Drive already mounted at /content/drive; to attempt to forcibly remount, call drive.mount(\"/content/drive\", force_remount=True).\n"
     ]
    }
   ],
   "source": [
    "from google.colab import drive\n",
    "drive.mount('/content/drive')"
   ]
  },
  {
   "cell_type": "code",
   "execution_count": 212,
   "metadata": {
    "colab": {
     "base_uri": "https://localhost:8080/",
     "height": 119
    },
    "colab_type": "code",
    "id": "z4QogBlExv0_",
    "outputId": "6f6d7058-c23d-4ff6-9b93-57e5ea5962ad"
   },
   "outputs": [
    {
     "name": "stdout",
     "output_type": "stream",
     "text": [
      "Requirement already satisfied: pymorphy2 in /usr/local/lib/python3.6/dist-packages (0.8)\n",
      "Requirement already satisfied: pymorphy2-dicts<3.0,>=2.4 in /usr/local/lib/python3.6/dist-packages (from pymorphy2) (2.4.393442.3710985)\n",
      "Requirement already satisfied: dawg-python>=0.7 in /usr/local/lib/python3.6/dist-packages (from pymorphy2) (0.7.2)\n",
      "Requirement already satisfied: docopt>=0.6 in /usr/local/lib/python3.6/dist-packages (from pymorphy2) (0.6.2)\n",
      "Requirement already satisfied: youtokentome in /usr/local/lib/python3.6/dist-packages (1.0.6)\n",
      "Requirement already satisfied: Click>=7.0 in /usr/local/lib/python3.6/dist-packages (from youtokentome) (7.1.1)\n"
     ]
    }
   ],
   "source": [
    "%matplotlib inline\n",
    "\n",
    "from tqdm import tqdm\n",
    "from scipy.sparse import csr_matrix\n",
    "\n",
    "import pandas as pd\n",
    "import numpy as np\n",
    "import scipy\n",
    "import matplotlib.pyplot as plt\n",
    "\n",
    "import sklearn.model_selection as skl\n",
    "import sklearn.metrics as sklm\n",
    "from sklearn.metrics import f1_score\n",
    "\n",
    "! pip install pymorphy2\n",
    "! pip install youtokentome\n",
    "import random\n",
    "import youtokentome as yttm\n",
    "import pymorphy2 # Морфологический анализатор\n",
    "\n",
    "import string # for work with strings\n",
    "import nltk   # Natural Language Toolkit\n",
    "from nltk.stem.snowball import SnowballStemmer \n",
    "\n",
    "# classifiers\n",
    "from sklearn.feature_extraction.text import CountVectorizer\n",
    "from sklearn.feature_extraction.text import TfidfVectorizer\n",
    "from sklearn.linear_model import LogisticRegression\n",
    "from sklearn.neighbors import KNeighborsClassifier\n",
    "from sklearn.tree import DecisionTreeClassifier"
   ]
  },
  {
   "cell_type": "code",
   "execution_count": 213,
   "metadata": {
    "colab": {
     "base_uri": "https://localhost:8080/",
     "height": 204
    },
    "colab_type": "code",
    "id": "7hbcghlnxv1C",
    "outputId": "3ebfe080-f10b-413c-dfc4-9cce38e7ef27",
    "scrolled": true
   },
   "outputs": [
    {
     "data": {
      "text/html": [
       "<div>\n",
       "<style scoped>\n",
       "    .dataframe tbody tr th:only-of-type {\n",
       "        vertical-align: middle;\n",
       "    }\n",
       "\n",
       "    .dataframe tbody tr th {\n",
       "        vertical-align: top;\n",
       "    }\n",
       "\n",
       "    .dataframe thead th {\n",
       "        text-align: right;\n",
       "    }\n",
       "</style>\n",
       "<table border=\"1\" class=\"dataframe\">\n",
       "  <thead>\n",
       "    <tr style=\"text-align: right;\">\n",
       "      <th></th>\n",
       "      <th>id</th>\n",
       "      <th>url</th>\n",
       "      <th>title</th>\n",
       "      <th>target</th>\n",
       "    </tr>\n",
       "  </thead>\n",
       "  <tbody>\n",
       "    <tr>\n",
       "      <th>0</th>\n",
       "      <td>0</td>\n",
       "      <td>m.kp.md</td>\n",
       "      <td>Экс-министр экономики Молдовы - главе МИДЭИ, ц...</td>\n",
       "      <td>False</td>\n",
       "    </tr>\n",
       "    <tr>\n",
       "      <th>1</th>\n",
       "      <td>1</td>\n",
       "      <td>www.kp.by</td>\n",
       "      <td>Эта песня стала известна многим телезрителям б...</td>\n",
       "      <td>False</td>\n",
       "    </tr>\n",
       "    <tr>\n",
       "      <th>2</th>\n",
       "      <td>2</td>\n",
       "      <td>fanserials.tv</td>\n",
       "      <td>Банши 4 сезон 2 серия Бремя красоты смотреть о...</td>\n",
       "      <td>False</td>\n",
       "    </tr>\n",
       "    <tr>\n",
       "      <th>3</th>\n",
       "      <td>3</td>\n",
       "      <td>colorbox.spb.ru</td>\n",
       "      <td>Не Беси Меня Картинки</td>\n",
       "      <td>False</td>\n",
       "    </tr>\n",
       "    <tr>\n",
       "      <th>4</th>\n",
       "      <td>4</td>\n",
       "      <td>tula-sport.ru</td>\n",
       "      <td>В Новомосковске сыграют следж-хоккеисты алекси...</td>\n",
       "      <td>False</td>\n",
       "    </tr>\n",
       "  </tbody>\n",
       "</table>\n",
       "</div>"
      ],
      "text/plain": [
       "   id  ... target\n",
       "0   0  ...  False\n",
       "1   1  ...  False\n",
       "2   2  ...  False\n",
       "3   3  ...  False\n",
       "4   4  ...  False\n",
       "\n",
       "[5 rows x 4 columns]"
      ]
     },
     "execution_count": 213,
     "metadata": {
      "tags": []
     },
     "output_type": "execute_result"
    }
   ],
   "source": [
    "train_df = pd.read_csv(\"/content/drive/My Drive/Colab Notebooks/data/train.csv\")\n",
    "\n",
    "train_df.head()"
   ]
  },
  {
   "cell_type": "code",
   "execution_count": 214,
   "metadata": {
    "colab": {
     "base_uri": "https://localhost:8080/",
     "height": 204
    },
    "colab_type": "code",
    "id": "YyXxdxU6xv1F",
    "outputId": "d270a56e-5216-4f89-b8c1-6f426a040ba0"
   },
   "outputs": [
    {
     "data": {
      "text/html": [
       "<div>\n",
       "<style scoped>\n",
       "    .dataframe tbody tr th:only-of-type {\n",
       "        vertical-align: middle;\n",
       "    }\n",
       "\n",
       "    .dataframe tbody tr th {\n",
       "        vertical-align: top;\n",
       "    }\n",
       "\n",
       "    .dataframe thead th {\n",
       "        text-align: right;\n",
       "    }\n",
       "</style>\n",
       "<table border=\"1\" class=\"dataframe\">\n",
       "  <thead>\n",
       "    <tr style=\"text-align: right;\">\n",
       "      <th></th>\n",
       "      <th>id</th>\n",
       "      <th>url</th>\n",
       "      <th>title</th>\n",
       "    </tr>\n",
       "  </thead>\n",
       "  <tbody>\n",
       "    <tr>\n",
       "      <th>0</th>\n",
       "      <td>135309</td>\n",
       "      <td>www.kommersant.ru</td>\n",
       "      <td>Шестой кассационный суд в Самаре начнет работу...</td>\n",
       "    </tr>\n",
       "    <tr>\n",
       "      <th>1</th>\n",
       "      <td>135310</td>\n",
       "      <td>urexpert.online</td>\n",
       "      <td>Что такое индексация алиментов, кем и в каких ...</td>\n",
       "    </tr>\n",
       "    <tr>\n",
       "      <th>2</th>\n",
       "      <td>135311</td>\n",
       "      <td>imperimeha.ru</td>\n",
       "      <td>Женщинам | Империя Меха - Part 12</td>\n",
       "    </tr>\n",
       "    <tr>\n",
       "      <th>3</th>\n",
       "      <td>135312</td>\n",
       "      <td>national-porn.com</td>\n",
       "      <td>Небритые, волосатые киски: Порно всех стран и ...</td>\n",
       "    </tr>\n",
       "    <tr>\n",
       "      <th>4</th>\n",
       "      <td>135313</td>\n",
       "      <td>2gis.ru</td>\n",
       "      <td>67</td>\n",
       "    </tr>\n",
       "  </tbody>\n",
       "</table>\n",
       "</div>"
      ],
      "text/plain": [
       "       id                url                                              title\n",
       "0  135309  www.kommersant.ru  Шестой кассационный суд в Самаре начнет работу...\n",
       "1  135310    urexpert.online  Что такое индексация алиментов, кем и в каких ...\n",
       "2  135311      imperimeha.ru                  Женщинам | Империя Меха - Part 12\n",
       "3  135312  national-porn.com  Небритые, волосатые киски: Порно всех стран и ...\n",
       "4  135313            2gis.ru                                                 67"
      ]
     },
     "execution_count": 214,
     "metadata": {
      "tags": []
     },
     "output_type": "execute_result"
    }
   ],
   "source": [
    "test_df = pd.read_csv(\"/content/drive/My Drive/Colab Notebooks/data/test.csv\")\n",
    "\n",
    "test_df.head()"
   ]
  },
  {
   "cell_type": "code",
   "execution_count": 215,
   "metadata": {
    "colab": {
     "base_uri": "https://localhost:8080/",
     "height": 68
    },
    "colab_type": "code",
    "id": "VY_Qp0nVxv1H",
    "outputId": "834fa4b3-9116-4696-be03-1499e75a309f"
   },
   "outputs": [
    {
     "data": {
      "text/plain": [
       "False    118594\n",
       "True      16715\n",
       "Name: target, dtype: int64"
      ]
     },
     "execution_count": 215,
     "metadata": {
      "tags": []
     },
     "output_type": "execute_result"
    }
   ],
   "source": [
    "train_df[\"target\"].value_counts()"
   ]
  },
  {
   "cell_type": "code",
   "execution_count": 0,
   "metadata": {
    "colab": {},
    "colab_type": "code",
    "id": "ZNVlHSANxv1J"
   },
   "outputs": [],
   "source": [
    "X_train_title = train_df[\"title\"].values\n",
    "X_test_title = test_df[\"title\"].values\n",
    "\n",
    "X_train_url = train_df[\"url\"].values\n",
    "X_test_url = test_df[\"url\"].values\n",
    "\n",
    "y_train = train_df[\"target\"].astype(int).values"
   ]
  },
  {
   "cell_type": "markdown",
   "metadata": {
    "colab_type": "text",
    "id": "cJVJR6Uexv1L"
   },
   "source": [
    "## Logistic Regression Classifier"
   ]
  },
  {
   "cell_type": "markdown",
   "metadata": {
    "colab_type": "text",
    "id": "3aCwqBC4xv1N"
   },
   "source": [
    "### Url processing"
   ]
  },
  {
   "cell_type": "code",
   "execution_count": 217,
   "metadata": {
    "colab": {
     "base_uri": "https://localhost:8080/",
     "height": 34
    },
    "colab_type": "code",
    "id": "nkDmkRuoxv1Q",
    "outputId": "8fe67e17-acba-4b28-af08-3c8ee7f02ec6"
   },
   "outputs": [
    {
     "name": "stdout",
     "output_type": "stream",
     "text": [
      "[['▁www.porn', 'h', 'ub.com']]\n"
     ]
    }
   ],
   "source": [
    "train_data_path = \"/content/drive/My Drive/Colab Notebooks/data/train_data.txt\"\n",
    "model_path = \"/content/drive/My Drive/Colab Notebooks/data/example.model\"\n",
    "\n",
    "with open(train_data_path, \"w\") as fout:\n",
    "    for url in X_train_url:\n",
    "        print(url, file=fout)\n",
    "\n",
    "# Training model\n",
    "yttm.BPE.train(data=train_data_path, vocab_size=4000, model=model_path)\n",
    "\n",
    "# Loading model\n",
    "bpe = yttm.BPE(model=model_path)\n",
    "\n",
    "# Two types of tokenization\n",
    "print(bpe.encode([\"www.pornhub.com\"], output_type=yttm.OutputType.SUBWORD))"
   ]
  },
  {
   "cell_type": "markdown",
   "metadata": {
    "colab_type": "text",
    "id": "r75HqhuKxv1T"
   },
   "source": [
    "#### data cleaning"
   ]
  },
  {
   "cell_type": "code",
   "execution_count": 218,
   "metadata": {
    "colab": {
     "base_uri": "https://localhost:8080/",
     "height": 51
    },
    "colab_type": "code",
    "id": "jfhBs9fSxv1U",
    "outputId": "83a9405f-f0c9-47a5-b6b1-f8c48f5fdb2d"
   },
   "outputs": [
    {
     "name": "stdout",
     "output_type": "stream",
     "text": [
      "[nltk_data] Downloading package stopwords to /root/nltk_data...\n",
      "[nltk_data]   Package stopwords is already up-to-date!\n"
     ]
    }
   ],
   "source": [
    "word_tokenizer = nltk.WordPunctTokenizer()\n",
    "\n",
    "# get russian and english stop words\n",
    "nltk.download('stopwords')\n",
    "stop_words = nltk.corpus.stopwords.words('russian')\n",
    "stop_words.append(nltk.corpus.stopwords.words('english'))"
   ]
  },
  {
   "cell_type": "code",
   "execution_count": 0,
   "metadata": {
    "colab": {},
    "colab_type": "code",
    "id": "hyGdRcHvxv1X"
   },
   "outputs": [],
   "source": [
    "def process_data(texts):\n",
    "    updated_texts = []\n",
    "    \n",
    "    # string processers\n",
    "    stemmer = SnowballStemmer('russian')\n",
    "    morph = pymorphy2.MorphAnalyzer()\n",
    "    \n",
    "    for text in tqdm(texts):    \n",
    "        text_lower = text.lower() # convert words in a text to lower case\n",
    "        tokens     = word_tokenizer.tokenize(text_lower) # splits the text into tokens (words)\n",
    "        \n",
    "        # remove punct and stop words from tokens\n",
    "        tokens = [word for word in tokens if (word not in string.punctuation and word not in stop_words)]\n",
    "        \n",
    "        tmp_str = ''\n",
    "        for token in tokens:\n",
    "            # not taking in account 0 or 1 letter tokens\n",
    "            if (len(token) >= 2):\n",
    "                # lemmatization\n",
    "                token = (morph.parse(token))[0].normal_form\n",
    "                \n",
    "                # stemming\n",
    "                # token = stemmer.stem(token)\n",
    "                \n",
    "                tmp_str += token + ' '\n",
    "        \n",
    "        updated_texts.append(tmp_str.strip())\n",
    "    \n",
    "    return updated_texts"
   ]
  },
  {
   "cell_type": "code",
   "execution_count": 220,
   "metadata": {
    "colab": {
     "base_uri": "https://localhost:8080/",
     "height": 224
    },
    "colab_type": "code",
    "id": "XEaCusLHxv1Z",
    "outputId": "a6e27241-86e7-48de-fcf4-fb9bb17bfcaf"
   },
   "outputs": [
    {
     "name": "stderr",
     "output_type": "stream",
     "text": [
      "  0%|          | 70/135309 [00:00<03:15, 692.23it/s]"
     ]
    },
    {
     "name": "stdout",
     "output_type": "stream",
     "text": [
      "['Экс-министр экономики Молдовы - главе МИДЭИ, цель которого сделать из республики не просителя, а донора: Надо избегать долгого нахождения н�'\n",
      " 'Эта песня стала известна многим телезрителям благодаря сериалу Диверсант-2'\n",
      " 'Банши 4 сезон 2 серия Бремя красоты смотреть онлайн!' ...\n",
      " '1941 Plymouth Special Deluxe Hot Rod, Automatic,Small Block,Power Steering, A/C for sale: photos, technical specifications, description'\n",
      " \"Купить It's Skin Сыворотка питательная Power 10 Formula YE Effector, 30 мл в Москве - WOWCREAM\"\n",
      " 'Технический спирт в канистрах и флаконах, купить в Москве']\n"
     ]
    },
    {
     "name": "stderr",
     "output_type": "stream",
     "text": [
      "100%|██████████| 135309/135309 [02:57<00:00, 763.48it/s]\n",
      "100%|██████████| 165378/165378 [03:43<00:00, 739.91it/s]"
     ]
    },
    {
     "name": "stdout",
     "output_type": "stream",
     "text": [
      "['экс министр экономика молдова глава мидэя цель который сделать республика проситель донор избегать долгий нахождение', 'этот песня стать известный многий телезритель благодаря сериал диверсант', 'банша сезон серия бремя красота смотреть онлайн', 'бесить картинка', 'новомосковск сыграть следж хоккеист алексинский звезда сборный китай ...', 'салат корейский морковь копчёный курица кукуруза сухарик калорийность белка жир углевод', 'угловой пневмогайковерт fubag rwc 105 100320 екатеринбург купить цена отзыв характеристика фото инструкция', 'табачный магазин мир табак курительный трубка stanwell курительный труба', 'league of legends page porn comics free online', '08 00 4766р ), одесса ростов дон 20 сентябрь 2019 фаворит чп']\n"
     ]
    },
    {
     "name": "stderr",
     "output_type": "stream",
     "text": [
      "\n"
     ]
    }
   ],
   "source": [
    "print(X_train_title)\n",
    "X_train_title_processed = process_data(X_train_title)\n",
    "X_test_title_processed = process_data(X_test_title)\n",
    "print(X_train_title_processed[0:10])"
   ]
  },
  {
   "cell_type": "markdown",
   "metadata": {
    "colab_type": "text",
    "id": "ppQmBDh3xv1b"
   },
   "source": [
    "### Splitting and fitting"
   ]
  },
  {
   "cell_type": "code",
   "execution_count": 0,
   "metadata": {
    "colab": {},
    "colab_type": "code",
    "id": "pq-bvu2Exv1b"
   },
   "outputs": [],
   "source": [
    "# url_vectorizer = TfidfVectorizer(max_features = 3500, tokenizer = lambda x: bpe.encode(x, output_type=yttm.OutputType.SUBWORD))\n",
    "# title_vectorizer = TfidfVectorizer(max_features = 7500)\n",
    "\n",
    "url_vectorizer = CountVectorizer(max_features = 3500, tokenizer = lambda x: bpe.encode(x, output_type=yttm.OutputType.SUBWORD))\n",
    "title_vectorizer = CountVectorizer(max_features = 7500)\n",
    "\n",
    "clf = LogisticRegression(solver='liblinear')"
   ]
  },
  {
   "cell_type": "code",
   "execution_count": 0,
   "metadata": {
    "colab": {},
    "colab_type": "code",
    "id": "NYV-LGAWxv1d"
   },
   "outputs": [],
   "source": [
    "# splitting using function\n",
    "X_data = []\n",
    "for i in range(len(X_train_url)):\n",
    "    X_data.append((X_train_url[i], X_train_title_processed[i]))\n",
    "\n",
    "df_X_train, df_X_test, df_y_train, df_y_test = skl.train_test_split(X_data, y_train, test_size=0.2, random_state=42)"
   ]
  },
  {
   "cell_type": "code",
   "execution_count": 224,
   "metadata": {
    "colab": {
     "base_uri": "https://localhost:8080/",
     "height": 105
    },
    "colab_type": "code",
    "id": "IF-LulOW2NkA",
    "outputId": "1a0dd880-37a9-4053-96d5-1453ca0a8221"
   },
   "outputs": [
    {
     "name": "stdout",
     "output_type": "stream",
     "text": [
      "train X: [('karat.spb.ru', 'амиксидина продажа цена санкт петербург медицинский дезинфицирующий средство ооо карат \"\" 367251050'), ('samara.farfor.ru', 'ультрасет new'), ('www.zr.ru', 'lada vesta cross видеообзор презентация серийный машина'), ('xn----htbdmodofzkc0c.xn--p1ai', 'фрезерный станок моделист cnc 6090al 600х900мма продажа цена краснодар фрезерный фрезерный гравировальный станок интернет магазин чпу моделист 49000320'), ('porno365.co', 'популярный порно просмотр порнуха популярный страница 28')]\n",
      "test X: [('www.kinotrast.com', 'сериал качели 2018 беларусь серия смотреть онлайн бесплатно фильм хороший качество hd 720 1080'), ('pc01.ru', 'шкаф спальный гарнитур энрике 37 000 рубль ., грозный аналог авит'), ('forum.zoneofgames.ru', 'swat close quarters battle русификатор zone of games forum'), ('librebook.me', 'читать онлайн электронный книга прометей жизнь бальзак введение бесплатно регистрация librebook ru'), ('meduniver.com', 'научить щедрость собственный мужчина отучить муж жадность причина жадность муж жена')]\n",
      "y_train: [0 0 0 0 1 0 0 0 0 0 1 0 0 0 0 0 0 0 0 0]\n",
      "y_test: [0 0 0 0 0 0 0 0 0 0 0 0 1 0 0 0 0 1 0 0]\n"
     ]
    }
   ],
   "source": [
    "print('train X:', df_X_train[0:5])\n",
    "print('test X:', df_X_test[0:5])\n",
    "print('y_train:', df_y_train[0:20])\n",
    "print('y_test:', df_y_test[0:20])"
   ]
  },
  {
   "cell_type": "code",
   "execution_count": 0,
   "metadata": {
    "colab": {},
    "colab_type": "code",
    "id": "28wl77UxDC7i"
   },
   "outputs": [],
   "source": [
    "porno_words = ['порно', 'гей', 'лесби', 'хуй', 'член', 'презерватив' ,'секс', 'xxx', 'эротика', 'sex', 'porn', 'dick','cock' ,'gay', 'latina', 'boobs', 'tits']"
   ]
  },
  {
   "cell_type": "code",
   "execution_count": 0,
   "metadata": {
    "colab": {},
    "colab_type": "code",
    "id": "xFX5CbNbEOJ4"
   },
   "outputs": [],
   "source": [
    "def get_porn_matrix(data_url, data_title):\n",
    "    porn_list = []\n",
    "\n",
    "    for i in range(len(data_url)):\n",
    "        value = 0\n",
    "        for pron_word in porno_words:\n",
    "            if (pron_word in data_url[i] or pron_word in data_title[i]):\n",
    "            value = 1\n",
    "            break\n",
    "        \n",
    "        porn_list.append(value)\n",
    "\n",
    "    return csr_matrix(porn_list).transpose()"
   ]
  },
  {
   "cell_type": "code",
   "execution_count": 0,
   "metadata": {
    "colab": {},
    "colab_type": "code",
    "id": "vaBc75Voxv1e"
   },
   "outputs": [],
   "source": [
    "def get_vectorizers(X_url_train, X_url_test, X_title_train, X_title_test):\n",
    "    #train\n",
    "    url_vectorizer.fit(X_url_train)\n",
    "    url_vectorizer_train = url_vectorizer.transform(X_url_train)\n",
    "\n",
    "    title_vectorizer.fit(X_title_train)\n",
    "    title_vectorizer_train = title_vectorizer.transform(X_title_train)\n",
    "\n",
    "    #test\n",
    "    url_vectorizer_test = url_vectorizer.transform(X_url_test)\n",
    "    title_vectorizer_test = title_vectorizer.transform(X_title_test)\n",
    "\n",
    "    shared_vectorizer_train = scipy.sparse.hstack((url_vectorizer_train, title_vectorizer_train, get_porn_matrix(X_url_train, X_title_train)))\n",
    "    shared_vectorizer_test = scipy.sparse.hstack((url_vectorizer_test, title_vectorizer_test, get_porn_matrix(X_url_test, X_title_test)))\n",
    "\n",
    "    return shared_vectorizer_train, shared_vectorizer_test"
   ]
  },
  {
   "cell_type": "code",
   "execution_count": 228,
   "metadata": {
    "colab": {
     "base_uri": "https://localhost:8080/",
     "height": 51
    },
    "colab_type": "code",
    "id": "NpWi30jsH-KJ",
    "outputId": "f4518421-ed38-4e46-fa74-2d30e678958b"
   },
   "outputs": [
    {
     "name": "stderr",
     "output_type": "stream",
     "text": [
      "/usr/local/lib/python3.6/dist-packages/sklearn/feature_extraction/text.py:507: UserWarning: The parameter 'token_pattern' will not be used since 'tokenizer' is not None'\n",
      "  warnings.warn(\"The parameter 'token_pattern' will not be used\"\n"
     ]
    }
   ],
   "source": [
    "# fitting vectorizers\n",
    "df_X_train_urls = [x[0] for x in df_X_train]\n",
    "df_X_train_titles = [x[1] for x in df_X_train]\n",
    "\n",
    "df_X_test_urls = [x[0] for x in df_X_test]\n",
    "df_X_test_titles = [x[1] for x in df_X_test]\n",
    "\n",
    "shared_vectorizer_train, shared_vectorizer_test = get_vectorizers(df_X_train_urls, df_X_test_urls, df_X_train_titles, df_X_test_titles)"
   ]
  },
  {
   "cell_type": "code",
   "execution_count": 229,
   "metadata": {
    "colab": {
     "base_uri": "https://localhost:8080/",
     "height": 68
    },
    "colab_type": "code",
    "id": "rY0RqZ3pxv1g",
    "outputId": "00effb07-b0c9-4ba9-bafe-d952eb96cd98"
   },
   "outputs": [
    {
     "name": "stdout",
     "output_type": "stream",
     "text": [
      "[17]\n",
      "CPU times: user 1.18 s, sys: 763 ms, total: 1.95 s\n",
      "Wall time: 1.03 s\n"
     ]
    }
   ],
   "source": [
    "%%time\n",
    "clf.fit(shared_vectorizer_train, df_y_train)\n",
    "\n",
    "print(clf.n_iter_)"
   ]
  },
  {
   "cell_type": "code",
   "execution_count": 0,
   "metadata": {
    "colab": {},
    "colab_type": "code",
    "id": "ihZHHhMmxv1i"
   },
   "outputs": [],
   "source": [
    "y_pred = clf.predict(shared_vectorizer_test)"
   ]
  },
  {
   "cell_type": "code",
   "execution_count": 231,
   "metadata": {
    "colab": {
     "base_uri": "https://localhost:8080/",
     "height": 34
    },
    "colab_type": "code",
    "id": "OqKhR3fuxv1k",
    "outputId": "555d5ed3-a794-4145-c3f6-b960b4ab3214"
   },
   "outputs": [
    {
     "data": {
      "text/plain": [
       "0.9789680738387049"
      ]
     },
     "execution_count": 231,
     "metadata": {
      "tags": []
     },
     "output_type": "execute_result"
    }
   ],
   "source": [
    "f1_score(df_y_test, y_pred)\n",
    "#0.9751107039242632"
   ]
  },
  {
   "cell_type": "markdown",
   "metadata": {
    "colab_type": "text",
    "id": "02q2o3nbxv1m"
   },
   "source": [
    "### Submit Logistic"
   ]
  },
  {
   "cell_type": "code",
   "execution_count": 232,
   "metadata": {
    "colab": {
     "base_uri": "https://localhost:8080/",
     "height": 51
    },
    "colab_type": "code",
    "id": "sH1Om63bxv1m",
    "outputId": "fe3b357a-7e73-4f60-fafd-f3f28afd65b7"
   },
   "outputs": [
    {
     "name": "stderr",
     "output_type": "stream",
     "text": [
      "/usr/local/lib/python3.6/dist-packages/sklearn/feature_extraction/text.py:507: UserWarning: The parameter 'token_pattern' will not be used since 'tokenizer' is not None'\n",
      "  warnings.warn(\"The parameter 'token_pattern' will not be used\"\n"
     ]
    }
   ],
   "source": [
    "shared_vectorizer_train, shared_vectorizer_test = get_vectorizers(X_train_url, X_test_url, X_train_title_processed, X_test_title_processed)"
   ]
  },
  {
   "cell_type": "code",
   "execution_count": 233,
   "metadata": {
    "colab": {
     "base_uri": "https://localhost:8080/",
     "height": 68
    },
    "colab_type": "code",
    "id": "0YJ-ikpOxv1o",
    "outputId": "8d9ac4af-e64e-4225-a96d-a4c176d666f0",
    "scrolled": true
   },
   "outputs": [
    {
     "name": "stdout",
     "output_type": "stream",
     "text": [
      "[20]\n",
      "CPU times: user 1.64 s, sys: 1.06 s, total: 2.7 s\n",
      "Wall time: 1.43 s\n"
     ]
    }
   ],
   "source": [
    "%%time\n",
    "clf.fit(shared_vectorizer_train, y_train)\n",
    "\n",
    "print(clf.n_iter_)"
   ]
  },
  {
   "cell_type": "code",
   "execution_count": 0,
   "metadata": {
    "colab": {},
    "colab_type": "code",
    "id": "kcRMVjz7xv1p"
   },
   "outputs": [],
   "source": [
    "y_pred = clf.predict(shared_vectorizer_test)"
   ]
  },
  {
   "cell_type": "code",
   "execution_count": 235,
   "metadata": {
    "colab": {
     "base_uri": "https://localhost:8080/",
     "height": 34
    },
    "colab_type": "code",
    "id": "uyQicOc5xv1t",
    "outputId": "9d8c60f1-eff8-46b5-c4a2-525ece77a2de"
   },
   "outputs": [
    {
     "name": "stdout",
     "output_type": "stream",
     "text": [
      "cat: ml_baseline.csv: No such file or directory\n"
     ]
    }
   ],
   "source": [
    "test_df[\"target\"] = y_pred.astype(bool)\n",
    "\n",
    "test_df[[\"id\", \"target\"]].to_csv(\"/content/drive/My Drive/Colab Notebooks/data/ml_baseline_logistic.csv\", index=False)\n",
    "\n",
    "!cat ml_baseline.csv | head"
   ]
  }
 ],
 "metadata": {
  "colab": {
   "collapsed_sections": [],
   "name": "korolev dmitry.ipynb",
   "provenance": [],
   "toc_visible": true
  },
  "kernelspec": {
   "display_name": "Python 3",
   "language": "python",
   "name": "python3"
  },
  "language_info": {
   "codemirror_mode": {
    "name": "ipython",
    "version": 3
   },
   "file_extension": ".py",
   "mimetype": "text/x-python",
   "name": "python",
   "nbconvert_exporter": "python",
   "pygments_lexer": "ipython3",
   "version": "3.7.3"
  }
 },
 "nbformat": 4,
 "nbformat_minor": 1
}
