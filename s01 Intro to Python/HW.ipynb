{
 "cells": [
  {
   "cell_type": "code",
   "execution_count": 1,
   "metadata": {},
   "outputs": [],
   "source": [
    "%matplotlib inline\n",
    "import numpy as np\n",
    "import pandas as pd\n",
    "import matplotlib.pyplot as plt"
   ]
  },
  {
   "cell_type": "markdown",
   "metadata": {},
   "source": [
    "# 1. Python"
   ]
  },
  {
   "cell_type": "markdown",
   "metadata": {},
   "source": [
    "**Task 1** (0.5 points)<br/> \n",
    "Enter numbers `a`,  `d` и `N`. Find sum of the first `N` members of arithmetic progression with the first member `a` and difference `d`, without using formula for the sum."
   ]
  },
  {
   "cell_type": "code",
   "execution_count": 13,
   "metadata": {},
   "outputs": [
    {
     "name": "stdout",
     "output_type": "stream",
     "text": [
      "Enter a: 1\n",
      "Enter d: 2\n",
      "Enter N: 3\n"
     ]
    },
    {
     "data": {
      "text/plain": [
       "9"
      ]
     },
     "execution_count": 13,
     "metadata": {},
     "output_type": "execute_result"
    }
   ],
   "source": [
    "a = int(input(\"Enter a: \"))\n",
    "d = int(input(\"Enter d: \"))\n",
    "N = int(input(\"Enter N: \"))\n",
    "\n",
    "ary_sum = 0\n",
    "for i in range(N):\n",
    "    ary_sum += a\n",
    "    a += d\n",
    "    \n",
    "ary_sum"
   ]
  },
  {
   "cell_type": "markdown",
   "metadata": {},
   "source": [
    "**Task 2** (0.5 points) <br/> \n",
    "Enter a number `N`. Find sum of the first `N` memebers of harmonic series."
   ]
  },
  {
   "cell_type": "code",
   "execution_count": 15,
   "metadata": {},
   "outputs": [
    {
     "name": "stdout",
     "output_type": "stream",
     "text": [
      "Enter N: 3\n"
     ]
    },
    {
     "data": {
      "text/plain": [
       "1.8333333333333333"
      ]
     },
     "execution_count": 15,
     "metadata": {},
     "output_type": "execute_result"
    }
   ],
   "source": [
    "N = int(input(\"Enter N: \"))\n",
    "\n",
    "harm_sum = 0\n",
    "\n",
    "for i in range(N):\n",
    "    harm_sum += (1 / (i + 1))\n",
    "    \n",
    "harm_sum"
   ]
  },
  {
   "cell_type": "markdown",
   "metadata": {},
   "source": [
    "**Task 3** (0.5 points) <br/> \n",
    "Enter an integer number `N`. Check if it is a prime number."
   ]
  },
  {
   "cell_type": "code",
   "execution_count": 63,
   "metadata": {},
   "outputs": [
    {
     "name": "stdout",
     "output_type": "stream",
     "text": [
      "Enter N: 5\n",
      "Is your input number prime? -  True\n"
     ]
    }
   ],
   "source": [
    "def IsNumberPrime(N):\n",
    "    if (N <= 0):\n",
    "        return\n",
    "\n",
    "    is_prime = True\n",
    "\n",
    "    # if we cant import any other libraries than those that are connected\n",
    "    # in the start of this doc, then i'll use N/2 and not sqrt(N)\n",
    "    for i in range(2, round(N / 2) + 1):\n",
    "        if (N % i == 0):\n",
    "            is_prime = False\n",
    "\n",
    "    if (is_prime):\n",
    "        return True\n",
    "    else:\n",
    "        return False\n",
    "    \n",
    "print('Is your input number prime? - ', IsNumberPrime(int(input('Enter N: '))))"
   ]
  },
  {
   "cell_type": "markdown",
   "metadata": {},
   "source": [
    "**Task 4** (0.5 points) <br/> \n",
    "Enter the first `N` prime numbers."
   ]
  },
  {
   "cell_type": "code",
   "execution_count": 75,
   "metadata": {},
   "outputs": [
    {
     "name": "stdout",
     "output_type": "stream",
     "text": [
      "Enter N: 5\n",
      "1\n",
      "2\n",
      "3\n",
      "5\n",
      "7\n"
     ]
    }
   ],
   "source": [
    "N = int(input('Enter N: '))\n",
    "\n",
    "i = 1\n",
    "while (N != 0):\n",
    "    if (IsNumberPrime(i)):\n",
    "        print(i)\n",
    "        N -= 1\n",
    "    i += 1"
   ]
  },
  {
   "cell_type": "markdown",
   "metadata": {},
   "source": [
    "**Task 5** (0.5 points) <br/> \n",
    "There are numbers: `a`, `b`, `c`. Without using functions `min`, `max` and other functions, find the maximum number."
   ]
  },
  {
   "cell_type": "code",
   "execution_count": 79,
   "metadata": {},
   "outputs": [
    {
     "data": {
      "text/plain": [
       "13"
      ]
     },
     "execution_count": 79,
     "metadata": {},
     "output_type": "execute_result"
    }
   ],
   "source": [
    "a = 10\n",
    "b = 13\n",
    "c = 11\n",
    "\n",
    "def findMax(a, b, c):\n",
    "    if (a > b):\n",
    "        if (a > c):\n",
    "            return a\n",
    "        else:\n",
    "            return c\n",
    "    else:\n",
    "        if (b > c):\n",
    "            return b\n",
    "        else:\n",
    "            return c\n",
    "        \n",
    "findMax(a,b,c)"
   ]
  },
  {
   "cell_type": "markdown",
   "metadata": {},
   "source": [
    "# 2. Numpy"
   ]
  },
  {
   "cell_type": "markdown",
   "metadata": {},
   "source": [
    "**Task 1** (0.5 points) <br/>\n",
    "Create two random arrays $a$ and $b$ with the same length. \n",
    "\n",
    "Calculate the following distances between the arrays:\n",
    "\n",
    "* Euclidean Distance\n",
    "$$ d(a, b) = \\sqrt{\\sum_i (a_i - b_i)^2} $$\n",
    "* Manhattan Distance\n",
    "$$ d(a, b) = \\sum_i |a_i - b_i| $$\n",
    "* Cosine Distance\n",
    "$$ d(a, b) = 1 - \\frac{a^\\top b}{||a||_2\\cdot||b||_2}$$\n"
   ]
  },
  {
   "cell_type": "code",
   "execution_count": 25,
   "metadata": {},
   "outputs": [
    {
     "name": "stdout",
     "output_type": "stream",
     "text": [
      "Euclidean:  0.9570479993547552\n",
      "Manhattan:  2.54971568419656\n",
      "Cosine:  0.8851566839208176\n"
     ]
    }
   ],
   "source": [
    "length = 10\n",
    "a = np.random.rand(length)\n",
    "b = np.random.rand(length)\n",
    "\n",
    "print('Euclidean: ', np.sqrt(np.sum((a - b) ** 2, axis = 0)))\n",
    "print('Manhattan: ', np.sum(abs(a - b), axis = 0))\n",
    "print('Cosine: ', np.sum(a*b) / (np.sqrt(np.sum(a**2)) * np.sqrt(np.sum(b**2))) )"
   ]
  },
  {
   "cell_type": "markdown",
   "metadata": {},
   "source": [
    "**Task 2** (0.5 points) <br/>\n",
    "Create a random array (`np.random.rand()`) with length of 10 and with sum of its elements equals to 2."
   ]
  },
  {
   "cell_type": "code",
   "execution_count": 39,
   "metadata": {},
   "outputs": [
    {
     "data": {
      "text/plain": [
       "2.0"
      ]
     },
     "execution_count": 39,
     "metadata": {},
     "output_type": "execute_result"
    }
   ],
   "source": [
    "arr = np.random.rand(10)\n",
    "arr_sum = np.sum(arr)\n",
    "new_arr = [x * 2 / arr_sum for x in arr]\n",
    "\n",
    "round(np.sum(new_arr))"
   ]
  },
  {
   "cell_type": "markdown",
   "metadata": {},
   "source": [
    "**Task 3** (0.5 points) <br/>\n",
    "Create a random array (`np.random.rand()`) with length of 100. Transform the array so, that \n",
    "* Maximum element(s) value is 1\n",
    "* Minimum element(s) value is 0\n",
    "* Other values are in interval 0-1 with keeping the order"
   ]
  },
  {
   "cell_type": "code",
   "execution_count": 76,
   "metadata": {},
   "outputs": [
    {
     "data": {
      "text/plain": [
       "array([0.        , 0.03590957, 0.04371513, 0.04397114, 0.04478759,\n",
       "       0.04911271, 0.05444057, 0.06068691, 0.08429856, 0.10110247,\n",
       "       0.10330077, 0.10615784, 0.11642843, 0.12694164, 0.12829094,\n",
       "       0.13080134, 0.13380989, 0.13615827, 0.1382083 , 0.14282072,\n",
       "       0.14843136, 0.16131891, 0.21886692, 0.21917933, 0.22002036,\n",
       "       0.22325979, 0.22474764, 0.23001655, 0.23792853, 0.25211198,\n",
       "       0.26250964, 0.28144132, 0.28639913, 0.29316538, 0.3081253 ,\n",
       "       0.32217357, 0.32695895, 0.3332247 , 0.34666168, 0.36062344,\n",
       "       0.37126371, 0.37207513, 0.37534269, 0.40628011, 0.43795745,\n",
       "       0.45796474, 0.47441196, 0.47505487, 0.47791206, 0.48255594,\n",
       "       0.49632534, 0.51721368, 0.51869485, 0.52580504, 0.53051864,\n",
       "       0.5412917 , 0.54781182, 0.55265606, 0.56201802, 0.57678729,\n",
       "       0.61936088, 0.62705649, 0.62746111, 0.65157179, 0.66447815,\n",
       "       0.68495159, 0.69516771, 0.72571654, 0.73011117, 0.73697671,\n",
       "       0.77656247, 0.7945893 , 0.79995294, 0.80292666, 0.80729214,\n",
       "       0.80803288, 0.81381827, 0.82269613, 0.82800986, 0.83301476,\n",
       "       0.83472015, 0.84156929, 0.85970883, 0.86639477, 0.87369891,\n",
       "       0.87862995, 0.88246953, 0.89073519, 0.8938522 , 0.89634602,\n",
       "       0.89859055, 0.93550677, 0.9361434 , 0.93760108, 0.93775684,\n",
       "       0.95154634, 0.95350373, 0.95717712, 0.96420043, 1.        ])"
      ]
     },
     "execution_count": 76,
     "metadata": {},
     "output_type": "execute_result"
    }
   ],
   "source": [
    "# Hard to understand what result task is wanting to see\n",
    "# I'm replacing max with 1, min with 1 and sorting array. Hope this is what You want to see\n",
    "\n",
    "arr = np.random.rand(100)\n",
    "# finding array of indeces of minimum elements (not only one because several min can be generated)\n",
    "arr_min_index = np.where(arr == arr.min())[0]\n",
    "arr_max_index = np.where(arr == arr.max())[0]\n",
    "\n",
    "# replacing\n",
    "for ind in arr_min_index:\n",
    "    arr[ind] = 0\n",
    "for ind in arr_max_index:\n",
    "    arr[ind] = 1\n",
    "\n",
    "# sorting\n",
    "arrS = np.sort(arr)\n",
    "arrS"
   ]
  },
  {
   "cell_type": "markdown",
   "metadata": {},
   "source": [
    "**Task 4** (0.5 points) <br/>\n",
    "Create a random array with length of 20 with integers from [0,50]. Select elements that are smaller than 5th percentile and larger than 95th percentile"
   ]
  },
  {
   "cell_type": "code",
   "execution_count": 121,
   "metadata": {},
   "outputs": [
    {
     "name": "stdout",
     "output_type": "stream",
     "text": [
      "[ 0  3  4  6  6 11 13 16 16 17 25 25 27 32 37 39 45 45 47 49]\n",
      "[0]\n",
      "[49]\n"
     ]
    }
   ],
   "source": [
    "arr = np.sort(np.random.randint(0, 51, 20))\n",
    "print(arr)\n",
    "\n",
    "smalls = arr[arr < np.percentile(arr, 5)]\n",
    "print(smalls)\n",
    "\n",
    "bigs = arr[arr > np.percentile(arr, 95)]\n",
    "print(bigs)"
   ]
  },
  {
   "cell_type": "markdown",
   "metadata": {},
   "source": [
    "**Task 5** (0.5 points) <br/>\n",
    "Create an array with shape of $5 \\times 6$ with integer from [0,50]. Print a column that contains the maximum element of the array."
   ]
  },
  {
   "cell_type": "code",
   "execution_count": 134,
   "metadata": {},
   "outputs": [
    {
     "name": "stdout",
     "output_type": "stream",
     "text": [
      "[[17 42 21 50  1  9]\n",
      " [39  2 13 41 18  1]\n",
      " [34 32 39 42 39 46]\n",
      " [ 6 25 31  9 43 42]\n",
      " [31 22 44 33  8 46]]\n",
      "column with max elem:  [50 41 42  9 33]\n"
     ]
    }
   ],
   "source": [
    "arr = np.random.randint(0, 51, size=(5, 6))\n",
    "print(arr)\n",
    "print('column with max elem: ', arr[:,arr.argmax() % 6])"
   ]
  },
  {
   "cell_type": "markdown",
   "metadata": {},
   "source": [
    "**Task 6** (0.5 points) <br/>\n",
    "\n",
    "Replace all missing values in the following array with mean."
   ]
  },
  {
   "cell_type": "code",
   "execution_count": 152,
   "metadata": {},
   "outputs": [
    {
     "name": "stdout",
     "output_type": "stream",
     "text": [
      "[0.18430574 0.6620931  0.87621668 0.54612538        nan 0.90761592\n",
      "        nan        nan        nan 0.58264642]\n",
      "[0.18430574 0.6620931  0.87621668 0.54612538 0.62650054 0.90761592\n",
      " 0.62650054 0.62650054 0.62650054 0.58264642]\n"
     ]
    }
   ],
   "source": [
    "arr = np.random.rand(10)\n",
    "idx = np.random.randint(0, 10, 4)\n",
    "arr[idx] = np.nan\n",
    "print(arr)\n",
    "\n",
    "# my code starts here\n",
    "arr[np.isnan(arr)] = np.mean(arr[np.logical_not(np.isnan(arr))])\n",
    "print(arr)"
   ]
  },
  {
   "cell_type": "code",
   "execution_count": 13,
   "metadata": {},
   "outputs": [],
   "source": [
    "## Your code here"
   ]
  },
  {
   "cell_type": "markdown",
   "metadata": {},
   "source": [
    "### Linear Regression"
   ]
  },
  {
   "cell_type": "markdown",
   "metadata": {},
   "source": [
    "Download [file 1](https://www.dropbox.com/s/kg9px9v3xfysak9/tutorial_dataset.csv?dl=0) and [file 2](https://www.dropbox.com/s/f87gm612o144emx/tutorial_dataset_2.csv?dl=0) into a directory with this notebook. Using function `loadtxt` in `numpy` load data from the first file. Assign y = D[:,0] аnd X = D[:, 1:].\n",
    "\n",
    "\n",
    "We will use one magic formula to find linear regression coefficients. You will prove this formula on your next lectures of the course.\n",
    "\n",
    "Linear regression model in matrix form looks like: $\\hat{y} = X\\hat{\\beta}$, where\n",
    "\n",
    "$$ \\hat{\\beta} = (X^\\top X)^{-1} X^\\top y $$\n",
    "Model residuals are calculated as\n",
    "$$ \\text{res} = y - \\hat{y} $$\n",
    "\n",
    "\n",
    "**Task 7** (2.5 points)<br/>\n",
    "1. Load the data\n",
    "2. Find parameters $\\hat{\\beta}$ using the formula above\n",
    "3. Make a plot with the model residuals on Y axis and $\\hat{y}$ on X axis"
   ]
  },
  {
   "cell_type": "code",
   "execution_count": 14,
   "metadata": {},
   "outputs": [],
   "source": [
    "## load data\n",
    "D = np.loadtxt('tutorial_dataset.csv', \n",
    "               skiprows=1, \n",
    "               delimiter=',')\n",
    "\n",
    "## Your code here"
   ]
  },
  {
   "cell_type": "markdown",
   "metadata": {},
   "source": [
    "# 3. Pandas"
   ]
  },
  {
   "cell_type": "markdown",
   "metadata": {},
   "source": [
    "### Wine Quality"
   ]
  },
  {
   "cell_type": "markdown",
   "metadata": {},
   "source": [
    "Download [sample](https://archive.ics.uci.edu/ml/machine-learning-databases/wine-quality/winequality-red.csv) with information about wine characteristics and its quality."
   ]
  },
  {
   "cell_type": "code",
   "execution_count": 15,
   "metadata": {},
   "outputs": [],
   "source": [
    "## Your code here"
   ]
  },
  {
   "cell_type": "markdown",
   "metadata": {},
   "source": [
    "**Task 1 ** (1 point) <br/>\n",
    "* How much objects are in the sample?\n",
    "* What features describe the objects? How much these features?\n",
    "* What is feature a target variable?\n",
    "* What are their ranges?\n",
    "* Are there any missing values?"
   ]
  },
  {
   "cell_type": "code",
   "execution_count": 16,
   "metadata": {},
   "outputs": [],
   "source": [
    "## Your code and answers here"
   ]
  },
  {
   "cell_type": "markdown",
   "metadata": {},
   "source": [
    "**Task 2** (1 point)<br/>\n",
    "What features affect the target variable the most?"
   ]
  },
  {
   "cell_type": "code",
   "execution_count": 17,
   "metadata": {},
   "outputs": [],
   "source": [
    "## Your code here"
   ]
  }
 ],
 "metadata": {
  "kernelspec": {
   "display_name": "Python 3",
   "language": "python",
   "name": "python3"
  },
  "language_info": {
   "codemirror_mode": {
    "name": "ipython",
    "version": 3
   },
   "file_extension": ".py",
   "mimetype": "text/x-python",
   "name": "python",
   "nbconvert_exporter": "python",
   "pygments_lexer": "ipython3",
   "version": "3.7.3"
  }
 },
 "nbformat": 4,
 "nbformat_minor": 2
}
