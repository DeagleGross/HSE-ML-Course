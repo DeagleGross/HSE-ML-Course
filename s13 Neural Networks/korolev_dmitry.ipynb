{
 "cells": [
  {
   "cell_type": "markdown",
   "metadata": {},
   "source": [
    "<h1><center>Data Analysis</center></h1>\n",
    "<h2><center>Homewrok: Neural Networks 2</center></h2>"
   ]
  },
  {
   "cell_type": "code",
   "execution_count": 7,
   "metadata": {},
   "outputs": [],
   "source": [
    "import numpy as np\n",
    "import pandas as pd\n",
    "import matplotlib.pyplot as plt\n",
    "\n",
    "RND_SEED = 7\n",
    "np.random.seed(RND_SEED)\n",
    "\n",
    "%matplotlib inline"
   ]
  },
  {
   "cell_type": "markdown",
   "metadata": {},
   "source": [
    "# Intro\n",
    "\n",
    "For this homework you are propossed to \n",
    "1. implement autoencoder model based on Keras library using MNIST sample.\n",
    "2. set up your own dataset for transfer learning and apply pretrained model"
   ]
  },
  {
   "cell_type": "markdown",
   "metadata": {},
   "source": [
    "# Autoencoders"
   ]
  },
  {
   "cell_type": "markdown",
   "metadata": {},
   "source": [
    "\n",
    "Idea of autoencoders is illustrated in the following figure:\n",
    "\n",
    "Autoencoder consists of two parts: encoder and decoder.\n",
    "Encoder takes an image and encodes it into another image or vector with smaller size. In other words, it compresses the image. On the other hand, decoder takes the compressed image and reconstructs the original image. If the autoencoder is designed and fitted properly, the original and reconstructed images will be similar. "
   ]
  },
  {
   "cell_type": "markdown",
   "metadata": {},
   "source": [
    "# Fully-connected Autoencoder"
   ]
  },
  {
   "cell_type": "markdown",
   "metadata": {},
   "source": [
    "Consider an autoencoder which consists only fully-connected layers (no convolutions, no pooling et al.) as it is show in figure:\n",
    "\n",
    "This autoencoder takes an image as a vector and encodes it into a vector of smaller size. Its output is a reconstructed image represented as a vector of the same size as the input. "
   ]
  },
  {
   "cell_type": "markdown",
   "metadata": {},
   "source": [
    "## Task 1 (1 point)\n",
    "\n",
    "Download and read MNIST sample. Plot several images. Do all preprocessing steps needed for the autoencoder.\n",
    "\n",
    "Hint: use `from tensorflow.keras.datasets import mnist`"
   ]
  },
  {
   "cell_type": "code",
   "execution_count": 61,
   "metadata": {},
   "outputs": [],
   "source": [
    "from tensorflow.keras.datasets import mnist\n",
    "from tensorflow.keras.models import Sequential\n",
    "from tensorflow.keras.layers import Dense, Activation, Dropout, Flatten, Convolution2D, MaxPooling2D\n",
    "from tensorflow.keras import backend as K\n",
    "from tensorflow.keras import initializers\n",
    "from tensorflow.keras.utils import to_categorical\n",
    "from tensorflow.keras.metrics import MeanSquaredError"
   ]
  },
  {
   "cell_type": "code",
   "execution_count": 62,
   "metadata": {},
   "outputs": [],
   "source": [
    "(X_train, y_train), (X_test, y_test) = mnist.load_data()"
   ]
  },
  {
   "cell_type": "code",
   "execution_count": 63,
   "metadata": {},
   "outputs": [
    {
     "data": {
      "image/png": "[encoded data removed]",
      "text/plain": [
       "<Figure size 432x432 with 9 Axes>"
      ]
     },
     "metadata": {
      "needs_background": "light"
     },
     "output_type": "display_data"
    }
   ],
   "source": [
    "plt.figure(figsize=(6,6))\n",
    "x, y = 3, 3\n",
    "for i in range(x*y):  \n",
    "    plt.subplot(y, x, i+1)\n",
    "    plt.imshow(X_train[i], cmap=plt.cm.gray_r, interpolation='nearest')\n",
    "plt.tight_layout()\n",
    "plt.show()"
   ]
  },
  {
   "cell_type": "code",
   "execution_count": 64,
   "metadata": {},
   "outputs": [],
   "source": [
    "# Scale X\n",
    "X_train = X_train.astype('float32')\n",
    "X_test = X_test.astype('float32')\n",
    "\n",
    "X_train /= 255\n",
    "X_test /= 255\n",
    "\n",
    "n_classes = 10\n",
    "y_train_hot = to_categorical(y_train, n_classes)\n",
    "y_test_hot = to_categorical(y_test, n_classes)"
   ]
  },
  {
   "cell_type": "markdown",
   "metadata": {},
   "source": [
    "## Task 2 (3 points)\n",
    "\n",
    "Implement your autoencoder using Keras library with the following structure:\n",
    "- **Encoder** has one fully-connected layer, that compresses an input image into a vector of size 49.\n",
    "- **Decoder** has one fully-connected layer, that reconstructs the original image. \n",
    "\n",
    "Fit your autoencoder during 5 epochs. Use **mse** error function.\n",
    "\n",
    "Hint: see Keras examples from your seminars."
   ]
  },
  {
   "cell_type": "code",
   "execution_count": 80,
   "metadata": {},
   "outputs": [
    {
     "name": "stdout",
     "output_type": "stream",
     "text": [
      "X_train:     (60000, 28, 28)\n",
      "X_train_nn:  (60000, 784)\n"
     ]
    }
   ],
   "source": [
    "n_train, img_rows, img_cols = X_train.shape\n",
    "n_test, _, _ = X_test.shape\n",
    "\n",
    "X_train_nn = X_train.reshape((n_train, -1, ))\n",
    "X_test_nn = X_test.reshape((n_test, -1, ))\n",
    "\n",
    "print('X_train:    ', X_train.shape)\n",
    "print('X_train_nn: ', X_train_nn.shape)"
   ]
  },
  {
   "cell_type": "code",
   "execution_count": 81,
   "metadata": {},
   "outputs": [],
   "source": [
    "model = Sequential()\n",
    "\n",
    "# as wanted - these shape\n",
    "model.add(Dense(units=49, activation='relu'))\n",
    "model.add(Dense(units=784, activation='sigmoid'))\n",
    "\n",
    "# as wanted - MSE\n",
    "model.compile(optimizer='adam', loss='binary_crossentropy', metrics=[MeanSquaredError()])"
   ]
  },
  {
   "cell_type": "code",
   "execution_count": 82,
   "metadata": {},
   "outputs": [
    {
     "name": "stdout",
     "output_type": "stream",
     "text": [
      "Train on 60000 samples, validate on 10000 samples\n",
      "Epoch 1/5\n",
      "60000/60000 [==============================] - 2s 41us/sample - loss: 0.1465 - mean_squared_error: 0.0269 - val_loss: 0.0981 - val_mean_squared_error: 0.0113\n",
      "Epoch 2/5\n",
      "60000/60000 [==============================] - 2s 38us/sample - loss: 0.0898 - mean_squared_error: 0.0088 - val_loss: 0.0831 - val_mean_squared_error: 0.0069\n",
      "Epoch 3/5\n",
      "60000/60000 [==============================] - 2s 41us/sample - loss: 0.0826 - mean_squared_error: 0.0067 - val_loss: 0.0806 - val_mean_squared_error: 0.0061\n",
      "Epoch 4/5\n",
      "60000/60000 [==============================] - 2s 41us/sample - loss: 0.0811 - mean_squared_error: 0.0062 - val_loss: 0.0797 - val_mean_squared_error: 0.0059\n",
      "Epoch 5/5\n",
      "60000/60000 [==============================] - 2s 37us/sample - loss: 0.0805 - mean_squared_error: 0.0061 - val_loss: 0.0794 - val_mean_squared_error: 0.0058\n"
     ]
    },
    {
     "data": {
      "text/plain": [
       "<tensorflow.python.keras.callbacks.History at 0x21334d1d2b0>"
      ]
     },
     "execution_count": 82,
     "metadata": {},
     "output_type": "execute_result"
    }
   ],
   "source": [
    "# as wanted - 5 epochs\n",
    "model.fit(X_train_nn,\n",
    "          X_train_nn,\n",
    "          batch_size=32,\n",
    "          epochs=5,\n",
    "          validation_data=(X_test_nn, X_test_nn))"
   ]
  },
  {
   "cell_type": "markdown",
   "metadata": {},
   "source": [
    "## Task 3 (1 point)\n",
    "\n",
    "Test your autoencoder. Calculate MSE error between inputs and outputs of the autoencoder. Plot several input and output images. Are they similar? "
   ]
  },
  {
   "cell_type": "code",
   "execution_count": 83,
   "metadata": {},
   "outputs": [
    {
     "name": "stdout",
     "output_type": "stream",
     "text": [
      "MSE value: 0.0057927388697862625\n"
     ]
    }
   ],
   "source": [
    "y_test_pred_probas = model.predict_proba(X_test_nn)\n",
    "y_test_pred_classes = model.predict_classes(X_test_nn)\n",
    "\n",
    "x_decoded = model.predict(X_test_nn)\n",
    "print('MSE value: ' + f'{MeanSquaredError()(X_test_nn, x_decoded).numpy()}')"
   ]
  },
  {
   "cell_type": "code",
   "execution_count": 78,
   "metadata": {},
   "outputs": [
    {
     "data": {
      "text/plain": [
       "array([[-2.385022 , -1.5738755, -2.40295  , ..., -2.0920653, -3.3651795,\n",
       "        -2.1546617],\n",
       "       [-2.115947 , -1.7342091, -2.549343 , ..., -2.408703 , -4.327458 ,\n",
       "        -2.9947517]], dtype=float32)"
      ]
     },
     "execution_count": 78,
     "metadata": {},
     "output_type": "execute_result"
    }
   ],
   "source": [
    "# Predicted probas for 2 images\n",
    "#y_test_pred_probas[:2]"
   ]
  },
  {
   "cell_type": "code",
   "execution_count": 84,
   "metadata": {},
   "outputs": [
    {
     "data": {
      "image/png": "[encoded data removed]",
      "text/plain": [
       "<Figure size 720x288 with 10 Axes>"
      ]
     },
     "metadata": {
      "needs_background": "light"
     },
     "output_type": "display_data"
    }
   ],
   "source": [
    "n = 5\n",
    "plt.figure(figsize=(n*2, 4))\n",
    "\n",
    "for i in range(n):\n",
    "    ax = plt.subplot(2, n, i + 1)\n",
    "    plt.imshow(X_test[i].reshape(28, 28))\n",
    "    plt.gray()\n",
    "    ax.get_xaxis().set_visible(False)\n",
    "    ax.get_yaxis().set_visible(False)\n",
    "\n",
    "    ax = plt.subplot(2, n, i + 1 + n)\n",
    "    plt.imshow(x_decoded[i].reshape(28, 28))\n",
    "    plt.gray()\n",
    "    ax.get_xaxis().set_visible(False)\n",
    "    ax.get_yaxis().set_visible(False)\n",
    "    \n",
    "plt.show()"
   ]
  },
  {
   "cell_type": "markdown",
   "metadata": {},
   "source": [
    "---"
   ]
  },
  {
   "cell_type": "markdown",
   "metadata": {},
   "source": [
    "# Transfer Learning"
   ]
  },
  {
   "cell_type": "markdown",
   "metadata": {},
   "source": [
    "In this task you should construct your own dataset to perform classification or regression task.\n",
    "For instance you can\n",
    "* Predict age (age group) given face image\n",
    "* Classify different types of vehicles on the image\n",
    "* Classify smartphone models\n",
    "* [Your Idea Here]"
   ]
  },
  {
   "cell_type": "raw",
   "metadata": {},
   "source": [
    "Write your own task:\n",
    "\n",
    "I've loaded photoes of toyota camry and of mini cooper.\n",
    "I want to classify is it toyota or mini from the photo.\n",
    "\n",
    "I dont have any exp in neural networks"
   ]
  },
  {
   "cell_type": "markdown",
   "metadata": {},
   "source": [
    "## Task 4 (3 points)\n",
    "\n",
    "Construct your dataset\n",
    "* It should be you handmade raw dataset (not loaded completely in the web by someone else)\n",
    "* It should contain at least 500 images (the more - the better)\n",
    "* Once collected it should be downloadable via `wget` command in terminal (if you have windows you can check it in Google Collab) - for instance use dropbox or Yandex.Disk to get the link\n",
    "\n",
    "Helpful links: [1](https://www.pyimagesearch.com/2018/04/09/how-to-quickly-build-a-deep-learning-image-dataset/), [2](https://www.pyimagesearch.com/2017/12/04/how-to-create-a-deep-learning-dataset-using-google-images/)"
   ]
  },
  {
   "cell_type": "code",
   "execution_count": 95,
   "metadata": {},
   "outputs": [
    {
     "name": "stdout",
     "output_type": "stream",
     "text": [
      "Collecting wldhx.yadisk-direct\n",
      "  Downloading https://files.pythonhosted.org/packages/20/a9/e14d8abec847b839d95d131dede68aa03c0bd3ca6485cca406550dfa2a3a/wldhx.yadisk_direct-0.0.6-py3-none-any.whl\n",
      "Requirement already satisfied: requests in d:\\anaconda\\lib\\site-packages (from wldhx.yadisk-direct) (2.21.0)\n",
      "Requirement already satisfied: chardet<3.1.0,>=3.0.2 in d:\\anaconda\\lib\\site-packages (from requests->wldhx.yadisk-direct) (3.0.4)\n",
      "Requirement already satisfied: urllib3<1.25,>=1.21.1 in d:\\anaconda\\lib\\site-packages (from requests->wldhx.yadisk-direct) (1.24.1)\n",
      "Requirement already satisfied: certifi>=2017.4.17 in d:\\anaconda\\lib\\site-packages (from requests->wldhx.yadisk-direct) (2019.3.9)\n",
      "Requirement already satisfied: idna<2.9,>=2.5 in d:\\anaconda\\lib\\site-packages (from requests->wldhx.yadisk-direct) (2.8)\n",
      "Installing collected packages: wldhx.yadisk-direct\n",
      "Successfully installed wldhx.yadisk-direct-0.0.6\n",
      "Note: you may need to restart the kernel to use updated packages.\n"
     ]
    }
   ],
   "source": [
    "%pip install wldhx.yadisk-direct"
   ]
  },
  {
   "cell_type": "code",
   "execution_count": 110,
   "metadata": {},
   "outputs": [
    {
     "data": {
      "text/plain": [
       "['\"wget\" \\xadҐ пў«пҐвбп ў\\xadгваҐ\\xad\\xadҐ© Ё«Ё ў\\xadҐи\\xadҐ©',\n",
       " 'Є®¬\\xa0\\xad¤®©, ЁбЇ®«\\xadпҐ¬®© Їа®Ја\\xa0¬¬®© Ё«Ё Ї\\xa0ЄҐв\\xadл¬ д\\xa0©«®¬.']"
      ]
     },
     "execution_count": 110,
     "metadata": {},
     "output_type": "execute_result"
    }
   ],
   "source": [
    "data = !wget --no-check-certificate 'https://drive.google.com/open?id=16M6612JaTMbmEmZBGxm4CGsKr22ulrCs'\n",
    "\n",
    "data"
   ]
  },
  {
   "cell_type": "markdown",
   "metadata": {},
   "source": [
    "## Task 5 (1 point)\n",
    "\n",
    "Prepare your dataset to be put through your model\n",
    "\n",
    "* Resize and normalize images\n",
    "* Split data in train and validation sets\n",
    "* Prepare data generator with image augmentation for training set"
   ]
  },
  {
   "cell_type": "code",
   "execution_count": null,
   "metadata": {},
   "outputs": [],
   "source": [
    "# Your code is here"
   ]
  },
  {
   "cell_type": "markdown",
   "metadata": {},
   "source": [
    "## Task 5 (1 point)\n",
    "\n",
    "* Use any pretrained model and replace dence layers\n",
    "* Freeze (make untrainable) all weight except for dence layers weights and train your model\n",
    "* Report train and validation losses\n",
    "* Unfreeze other weights, report train validation losses"
   ]
  },
  {
   "cell_type": "code",
   "execution_count": null,
   "metadata": {},
   "outputs": [],
   "source": [
    "# Your code is here"
   ]
  }
 ],
 "metadata": {
  "anaconda-cloud": {},
  "kernelspec": {
   "display_name": "Python 3",
   "language": "python",
   "name": "python3"
  },
  "nav_menu": {},
  "toc": {
   "base_numbering": 1,
   "nav_menu": {
    "height": "254px",
    "width": "253px"
   },
   "number_sections": false,
   "sideBar": true,
   "skip_h1_title": false,
   "title_cell": "Table of Contents",
   "title_sidebar": "Contents",
   "toc_cell": false,
   "toc_position": {},
   "toc_section_display": "block",
   "toc_window_display": false
  }
 },
 "nbformat": 4,
 "nbformat_minor": 1
}
