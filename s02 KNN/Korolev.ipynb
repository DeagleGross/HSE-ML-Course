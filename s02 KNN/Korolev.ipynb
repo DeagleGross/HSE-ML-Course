{
 "cells": [
  {
   "cell_type": "code",
   "execution_count": 136,
   "metadata": {
    "colab": {},
    "colab_type": "code",
    "id": "I6VZ-gsds41X"
   },
   "outputs": [],
   "source": [
    "%matplotlib inline\n",
    "import pandas as pd\n",
    "import numpy as np\n",
    "import matplotlib.pyplot as plt\n",
    "\n",
    "# storing all imports in one place\n",
    "from scipy.spatial import cKDTree"
   ]
  },
  {
   "cell_type": "markdown",
   "metadata": {
    "colab_type": "text",
    "id": "ZiYz3lx2s41o"
   },
   "source": [
    "Your task is to modify `KNNClassifier` class from your practice in class. The `KNNClassifier` class with empty methods is provided below. Please, modify it to do all tasks."
   ]
  },
  {
   "cell_type": "markdown",
   "metadata": {
    "colab_type": "text",
    "id": "0pv1opqMs411"
   },
   "source": [
    "### Task 1 (1 point) <br/>\n",
    "Create a matrix of object features `X` and vector of labels `y` for N=1000 objects using `sklearn.datasets.make_moons()` function from scikit-learn library. Also, set up random state in the function `random_state=42` and `noise=0.2`. To open the function description use `Shift` + `Tab` ."
   ]
  },
  {
   "cell_type": "code",
   "execution_count": 695,
   "metadata": {
    "colab": {},
    "colab_type": "code",
    "id": "D0ZiLtDds41q"
   },
   "outputs": [],
   "source": [
    "class KNNClassifier(object):\n",
    "    \n",
    "    def __init__(self, max_dist=1., use_kd_tree=False, use_weights=False):\n",
    "        \"\"\"\n",
    "        This is a constructor of the class. \n",
    "        Here you can define parameters (max_dist) of the class and \n",
    "        attributes, that are visible within all methods of the class.\n",
    "        \n",
    "        Parameters\n",
    "        ----------\n",
    "        max_dist : float\n",
    "            Maximum distance between an object and its neighbors.\n",
    "        \"\"\"\n",
    "\n",
    "        # Make this parameter visible in all methods of the class\n",
    "        self.max_dist = max_dist\n",
    "\n",
    "        # set flags for different options of prediction methods\n",
    "        self.use_kd_tree = use_kd_tree\n",
    "        self.use_weights = use_weights\n",
    "        \n",
    "        # creating a cKDTree here as a singleton-object\n",
    "        self.cKDTree = None \n",
    "\n",
    "        # creating field for storing X and Y\n",
    "        self.X_train = None\n",
    "        self.y_train = None\n",
    "                \n",
    "    \n",
    "    def fit(self, X, y):\n",
    "        \"\"\"\n",
    "        This method trains the KNN classifier. \n",
    "        Actualy, the KNN classifier has no training procedure.\n",
    "        It just remembers data (X, y) that will be used for predictions.\n",
    "        \n",
    "        Parameters\n",
    "        ----------\n",
    "        X : numpy.array, shape = (n_objects, n_features)\n",
    "            Matrix of objects that are described by their input features.\n",
    "        y : numpy.array, shape = (n_objects)\n",
    "            1D array with the object labels. \n",
    "            For the classification labels are integers in {0, 1, 2, ...}.\n",
    "        \"\"\"\n",
    "        \n",
    "        # Just save X and y. There is no training procedure for KNN classifier\n",
    "        self.X_train = X\n",
    "        self.y_train = y\n",
    "        \n",
    "    def calculate_distances(self, X, one_x):\n",
    "        \"\"\"\n",
    "        This method calculates distances between one object and all other objects.\n",
    "        \n",
    "        Parameters\n",
    "        ----------\n",
    "        X : numpy.array, shape = (n_objects, n_features)\n",
    "            Matrix of objects that are described by their input features.\n",
    "        one_x : numpy.array, shape = (n_features)\n",
    "        \"\"\"\n",
    "        \n",
    "        dists = np.sqrt( np.sum( (X - one_x)**2, axis=1 ) )\n",
    "\n",
    "        return dists\n",
    "\n",
    "    def find_k_neighbours_indices(self, X, one_x):\n",
    "        \"\"\"\n",
    "        This methods returns array of indeces of neighbours of one_x object.\n",
    "        \n",
    "        Parameters\n",
    "        ----------\n",
    "        X : numpy.array, shape = (n_objects, n_features)\n",
    "            Matrix of objects that are described by their input features.\n",
    "            \n",
    "        Returns\n",
    "        -------\n",
    "        k_neighbours_indeces - indices of neighbours of one_x object taken from X_train sample.\n",
    "            Or just one point in case when zero points are inside a circle\n",
    "            Example:  [\n",
    "                        [0,1; 0,2],\n",
    "                        [0,2; 0,3],\n",
    "                        ...\n",
    "                      ]\n",
    "        \"\"\"\n",
    "        \n",
    "        k_neighbours_indices = []\n",
    "        \n",
    "        # numpy initial algorithm\n",
    "        if (not self.use_kd_tree):\n",
    "            # Calculate distances between an object and all objects from train smaple\n",
    "            distances = self.calculate_distances(self.X_train, one_x)\n",
    "            # distances = [0.25, 0.10, 0.32, 0.05] (example)\n",
    "\n",
    "            # extract indeces which are inside circle\n",
    "            k_neighbours_indices = np.where(distances < self.max_dist)\n",
    "\n",
    "            if (len(k_neighbours_indices) < 1):\n",
    "                k_neighbours_indices = np.argmin(distances, axis = 1)\n",
    "        \n",
    "        # cKDTree\n",
    "        else:\n",
    "            # implementing something like a singleton pattern\n",
    "            if (self.cKDTree == None):\n",
    "                self.cKDTree = cKDTree(X, leafsize = 30)\n",
    "                \n",
    "            k_neighbours_indices = self.cKDTree.query_ball_point(one_x, self.max_dist)\n",
    "            \n",
    "        return k_neighbours_indices\n",
    "    \n",
    "    \n",
    "    def predict_proba(self, X):\n",
    "        \"\"\"\n",
    "        This methods performs prediction of probabilities of each class for new objects.\n",
    "        \n",
    "        Parameters\n",
    "        ----------\n",
    "        X : numpy.array, shape = (n_objects, n_features)\n",
    "            Matrix of objects that are described by their input features.\n",
    "            \n",
    "        Returns\n",
    "        -------\n",
    "        y_predicted_proba : numpy.array, shape = (n_objects, n_classes)\n",
    "            2D array with predicted probabilities of each class. \n",
    "            Example:\n",
    "                y_predicted_proba = [[0.1, 0.9],\n",
    "                                     [0.8, 0.2], \n",
    "                                     [0.0, 1.0], \n",
    "                                     ...]\n",
    "        \"\"\"\n",
    "        \n",
    "        # Create an empty list for predictions\n",
    "        y_predicted_proba = []\n",
    "        \n",
    "        ### Replace these lines with your code:\n",
    "         # For each object in X make prediction\n",
    "        for one_x in X:\n",
    "            # finding indeces of neighbours\n",
    "            k_neighbours_indeces = self.find_k_neighbours_indices(X_train, one_x)\n",
    "\n",
    "            # Get labels of these k_neighbors\n",
    "            k_neighbours_labels = self.y_train[k_neighbours_indeces]\n",
    "            # k_neighbors_labels = [0, 1, 0] (example)\n",
    "                      \n",
    "            unique_labels = np.unique(self.y_train)\n",
    "            print(unique_labels)\n",
    "            weights_for_label = []\n",
    "            \n",
    "            for group in unique_labels:\n",
    "                # getting only those elements who are of this group\n",
    "                indeces_of_neighbours = np.where(k_neighbours_labels == group)[0]\n",
    "                \n",
    "                # mapping indexes (i am new to python and i dont know how to do this elegant)\n",
    "                # -----------------\n",
    "                # i tried X_points = X[k_neighbours_indeces[indeces_of_neighbours]] \n",
    "                # but this didnt work out of box\n",
    "                index_mapping_arr = []\n",
    "                for index in indeces_of_neighbours:\n",
    "                    index_mapping_arr.append(k_neighbours_indeces[index])\n",
    "                X_points = X[index_mapping_arr]\n",
    "                \n",
    "                # saving weight for group\n",
    "                distances_within_group = self.calculate_distances(X_points, one_x)\n",
    "                sum_of_distances = np.sum(1 / distances_within_group)\n",
    "                weights_for_label.append(sum_of_distances)\n",
    "\n",
    "            # TODO доделать гавно\n",
    "            sum_of_weights = np.sum(weights_for_label)\n",
    "            ind_of_inf = np.where(np.isinf(weights_for_label))\n",
    "            print('found infinity at', ind_of_inf)\n",
    "            if (len(ind_of_inf) == 1):\n",
    "                for i in np.where(np.isinf(weights_for_label) == False):\n",
    "                    weights_for_label[i] = 0.0\n",
    "                weights_for_label[ind_of_inf] = 1.0\n",
    "                \n",
    "            print(weights_for_label)\n",
    "            \n",
    "            # Save the predicted label\n",
    "            y_predicted_proba.append(weights_for_label / sum_of_weights)\n",
    "        ### The end of your code\n",
    "            \n",
    "        return np.array(y_predicted_proba) # return numpy.array\n",
    "\n",
    "    def find_label_max_count(self, X, k_neighbours_indeces, k_neighbours_labels, one_x):      \n",
    "        # initial numpy algorithm\n",
    "        if (not self.use_weights):\n",
    "            # Get list of unique labels and counts of each label\n",
    "            unique_labels, label_counts = np.unique(k_neighbours_labels, return_counts=True)\n",
    "            # unique_labels = [0, 1] (example)\n",
    "            # label_counts  = [2, 1] (example)\n",
    "\n",
    "            # Get label with the maximum count\n",
    "            label_max_count = unique_labels[label_counts == label_counts.max()][0]\n",
    "            # label_max_count = 0 (example)\n",
    "            \n",
    "            return label_max_count\n",
    "        \n",
    "        # weighted voting\n",
    "        else:\n",
    "            unique_labels = np.unique(k_neighbours_labels)\n",
    "            \n",
    "            # if only 1 point is recognized as neighbour\n",
    "            if (len(unique_labels) < 2):\n",
    "                return unique_labels[0]\n",
    "            \n",
    "            weights_for_label = []\n",
    "            \n",
    "            for group in unique_labels:\n",
    "                # getting only those elements who are of this group\n",
    "                indeces_of_neighbours = np.where(k_neighbours_labels == group)[0]\n",
    "                \n",
    "                # mapping indexes (i am new to python and i dont know how to do this elegant)\n",
    "                # -----------------\n",
    "                # i tried X_points = X[k_neighbours_indeces[indeces_of_neighbours]] \n",
    "                # but this didnt work out of box\n",
    "                index_mapping_arr = []\n",
    "                for index in indeces_of_neighbours:\n",
    "                    index_mapping_arr.append(k_neighbours_indeces[index])\n",
    "                X_points = X[index_mapping_arr]\n",
    "                \n",
    "                # saving weight for group\n",
    "                distances_within_group = self.calculate_distances(X_points, one_x)\n",
    "                sum_of_distances = np.sum(1 / distances_within_group)\n",
    "                weights_for_label.append(sum_of_distances)\n",
    "\n",
    "            return np.argmax(weights_for_label)\n",
    "    \n",
    "    def predict(self, X):\n",
    "        \"\"\"\n",
    "        This methods performs labels prediction for new objects.\n",
    "        \n",
    "        Parameters\n",
    "        ----------\n",
    "        X : numpy.array, shape = (n_objects, n_features)\n",
    "            Matrix of objects that are described by their input features.\n",
    "            \n",
    "        Returns\n",
    "        -------\n",
    "        y_predicted : numpy.array, shape = (n_objects)\n",
    "            1D array with predicted labels. \n",
    "            For the classification labels are integers in {0, 1, 2, ...}.\n",
    "        \"\"\"\n",
    "\n",
    "       # Create an empty list for predicted labels\n",
    "        y_predicted = []\n",
    "        \n",
    "        # For each object in X make prediction\n",
    "        for one_x in X:\n",
    "            # one_x = [0.2, 0.57] (example)\n",
    "            \n",
    "            # finding indeces of neighbours\n",
    "            k_neighbours_indeces = self.find_k_neighbours_indices(X_train, one_x)\n",
    "\n",
    "            # Get labels of these k_neighbors\n",
    "            k_neighbours_labels = self.y_train[k_neighbours_indeces]\n",
    "            # k_neighbors_labels = [0, 1, 0] (example)\n",
    "                      \n",
    "            label_max_count = self.find_label_max_count(X_train, k_neighbours_indeces, k_neighbours_labels, one_x)\n",
    "            \n",
    "            # Save the predicted label\n",
    "            y_predicted.append(label_max_count)\n",
    "            \n",
    "        return np.array(y_predicted) # return numpy.array"
   ]
  },
  {
   "cell_type": "code",
   "execution_count": 696,
   "metadata": {
    "colab": {},
    "colab_type": "code",
    "id": "jaL3G87hs413"
   },
   "outputs": [],
   "source": [
    "### Your code here\n",
    "from sklearn.datasets import make_moons, load_iris # import function from the library\n",
    "\n",
    "N = 1000\n",
    "\n",
    "X, y = make_moons(n_samples=N, noise=0.2, random_state=42) # generate data sample\n",
    "\n",
    "\n",
    "### Check your solution\n",
    "ans = np.array([[-0.112,  0.52 ],\n",
    "                [ 1.143, -0.343]])\n",
    "assert np.array_equal(np.round(X[:2], 3), ans), ('Check your solution.')"
   ]
  },
  {
   "cell_type": "code",
   "execution_count": 697,
   "metadata": {
    "colab": {
     "base_uri": "https://localhost:8080/",
     "height": 388
    },
    "colab_type": "code",
    "id": "5Jg0MREjzGgS",
    "outputId": "0295a2f9-6859-41e5-9446-5a3a845907ba"
   },
   "outputs": [
    {
     "data": {
      "image/png": "[encoded data removed]",
      "text/plain": [
       "<Figure size 648x432 with 1 Axes>"
      ]
     },
     "metadata": {
      "needs_background": "light"
     },
     "output_type": "display_data"
    }
   ],
   "source": [
    "# Create an figure with a custom size\n",
    "plt.figure(figsize=(9, 6))\n",
    "\n",
    "# Plot all objects with y == 0 (class 0)\n",
    "plt.scatter(X[y == 0, 0],     # selects all objects with y == 0 and the 1st column of X\n",
    "            X[y == 0, 1],     # selects all objects with y == 0 and the 2nd column of X\n",
    "            color='r',        # points color\n",
    "            label='0')        # label for the plot legend\n",
    "\n",
    "\n",
    "# Plot all objects with y == 1 (class 1)\n",
    "plt.scatter(X[y == 1, 0],     # selects all objects with y == 1 and the 1st column of X\n",
    "            X[y == 1, 1],     # selects all objects with y == 1 and the 2nd column of X\n",
    "            color='b',        # points color\n",
    "            label='1')        # label for the plot legend\n",
    "\n",
    "plt.xlabel('X1') # set up X-axis label\n",
    "plt.ylabel('X2') # set up Y-axis label\n",
    "\n",
    "plt.legend(loc='best') # create the plot legend and set up it position\n",
    "plt.grid(b=1) # create grid on the plot\n",
    "\n",
    "plt.show() # display the plot"
   ]
  },
  {
   "cell_type": "markdown",
   "metadata": {
    "colab_type": "text",
    "id": "1SteyP8hs41_"
   },
   "source": [
    "### Task 2 (1 point) <br/>\n",
    "\n",
    "Split the sample into train and test samples using `sklearn.model_selection.train_test_split()` function from scikit-learn library. Use `random_state = 42` and `test_size = 0.5`."
   ]
  },
  {
   "cell_type": "code",
   "execution_count": 698,
   "metadata": {
    "colab": {},
    "colab_type": "code",
    "id": "IOoeibLNs42A"
   },
   "outputs": [],
   "source": [
    "### Your code here\n",
    "from sklearn.model_selection import train_test_split\n",
    "\n",
    "X_train, X_test, y_train, y_test = train_test_split(X, y, \n",
    "                                                    test_size=0.5,    # 50% for test, 50% for train\n",
    "                                                    random_state=42) # shuffle objects before split\n",
    "\n",
    "\n",
    "### Check your solution\n",
    "ans = np.array([[ 0.77 , -0.289],\n",
    "                [ 0.239,  1.041]])\n",
    "assert np.array_equal(np.round(X_train[:2], 3), ans), ('Check your solution.')"
   ]
  },
  {
   "cell_type": "markdown",
   "metadata": {
    "colab_type": "text",
    "id": "gvNfjowIs42F"
   },
   "source": [
    "### Task 3 (2 points) <br/>\n",
    "\n",
    "Modify class `KNNClassifier` above and implement `predict()` method that uses **max_dist** parameter to select neighbors like it's shown in the second figure (radius search). If there is no any object within **max_dist**, make decision based on the closest neighbor.\n",
    "\n",
    "<img src=\"https://github.com/hushchyn-mikhail/hse_se_ml/blob/S02/2020/s02-metric-based-methods%20/img/knn2.png?raw=1\" width=\"600\">"
   ]
  },
  {
   "cell_type": "code",
   "execution_count": 699,
   "metadata": {
    "colab": {
     "base_uri": "https://localhost:8080/",
     "height": 68
    },
    "colab_type": "code",
    "id": "VG5Qmr_5s42G",
    "outputId": "d23788b9-6a7a-48a7-a807-f0b6929a7e9e"
   },
   "outputs": [
    {
     "name": "stdout",
     "output_type": "stream",
     "text": [
      "Wall time: 21.9 ms\n",
      "Test accuracy of KNN classifier:  0.964\n"
     ]
    }
   ],
   "source": [
    "# Create a class object\n",
    "knn = KNNClassifier(max_dist=0.5)\n",
    "\n",
    "# Train the classifier\n",
    "knn.fit(X_train, y_train)\n",
    "\n",
    "# Make prediction using the trained classifier\n",
    "%time y_test_predict = knn.predict(X_test) # measure time for prediction\n",
    "\n",
    "# Import accuracy_score function\n",
    "from sklearn.metrics import accuracy_score\n",
    "# Calculate accuracy for the test sample\n",
    "accuracy_test = accuracy_score(y_test, y_test_predict)\n",
    "print(\"Test accuracy of KNN classifier: \", accuracy_test)\n",
    "\n",
    "\n",
    "### Check your solution\n",
    "assert accuracy_test == 0.964, ('Check your solution.')"
   ]
  },
  {
   "cell_type": "markdown",
   "metadata": {
    "colab_type": "text",
    "id": "Bi_E8L67s42W"
   },
   "source": [
    "### Task 4 (2 points) <br/>\n",
    "\n",
    "There are an algorithm [kd-tree](https://en.wikipedia.org/wiki/K-d_tree) that helps to find neighbors faster. Using [scipy.spatial.cKDTree](https://docs.scipy.org/doc/scipy-0.14.0/reference/generated/scipy.spatial.cKDTree.html#scipy.spatial.cKDTree) function modify you classifier to speed up **predict** method. Use `leafsize=30` in `KDTree`. Similar to `max_dist` option, add option `use_kd_tree = True/False` to your classifier."
   ]
  },
  {
   "cell_type": "code",
   "execution_count": 700,
   "metadata": {
    "colab": {
     "base_uri": "https://localhost:8080/",
     "height": 1000
    },
    "colab_type": "code",
    "id": "mGifxomGs42Z",
    "outputId": "fbad6dce-5e8d-4ed0-c6a2-75d67aa3c446"
   },
   "outputs": [
    {
     "name": "stdout",
     "output_type": "stream",
     "text": [
      "Wall time: 19 ms\n",
      "Test accuracy of KNN classifier:  0.964\n"
     ]
    }
   ],
   "source": [
    "# Create a class object\n",
    "knn = KNNClassifier(max_dist=0.5, use_kd_tree=True)\n",
    "\n",
    "# Train the classifier\n",
    "knn.fit(X_train, y_train)\n",
    "\n",
    "# Make prediction using the trained classifier\n",
    "%time y_test_predict = knn.predict(X_test) # measure time for prediction\n",
    "\n",
    "# Import accuracy_score function\n",
    "from sklearn.metrics import accuracy_score\n",
    "# Calculate accuracy for the test sample\n",
    "accuracy_test = accuracy_score(y_test, y_test_predict)\n",
    "print(\"Test accuracy of KNN classifier: \", accuracy_test)\n",
    "\n",
    "### Check your solution\n",
    "assert accuracy_test == 0.964, ('Check your solution.')"
   ]
  },
  {
   "cell_type": "markdown",
   "metadata": {
    "colab_type": "text",
    "id": "_jYXoOlfs42g"
   },
   "source": [
    "### Task 5 (3 points) <br/>\n",
    "\n",
    "Now modify the **predict** method to provide prediction with neighbors weights.\n",
    "\n",
    "<img src=\"https://github.com/hushchyn-mikhail/hse_se_ml/blob/S02/2020/s02-metric-based-methods%20/img/wv1.png?raw=1\">\n",
    "\n",
    "<img src=\"https://github.com/hushchyn-mikhail/hse_se_ml/blob/S02/2020/s02-metric-based-methods%20/img/wv2.png?raw=1\">\n",
    "\n",
    "We propose you to use the following weights:\n",
    "\n",
    "$$\n",
    "w_{i} = \\frac{1}{\\rho(x, x_{i})}\n",
    "$$\n",
    "\n",
    "Similar to `max_dist` option, add option `use_weights = True/False` to your classifier."
   ]
  },
  {
   "cell_type": "code",
   "execution_count": 701,
   "metadata": {
    "colab": {},
    "colab_type": "code",
    "id": "bBddFBQHs42i"
   },
   "outputs": [
    {
     "name": "stdout",
     "output_type": "stream",
     "text": [
      "Wall time: 36.3 ms\n",
      "Test accuracy of KNN classifier:  0.968\n"
     ]
    }
   ],
   "source": [
    "# Create a class object\n",
    "knn = KNNClassifier(max_dist=0.5, use_kd_tree=True, use_weights=True)\n",
    "\n",
    "# Train the classifier\n",
    "knn.fit(X_train, y_train)\n",
    "\n",
    "# Make prediction using the trained classifier\n",
    "%time y_test_predict = knn.predict(X_test) # measure time for prediction\n",
    "\n",
    "# Import accuracy_score function\n",
    "from sklearn.metrics import accuracy_score\n",
    "# Calculate accuracy for the test sample\n",
    "accuracy_test = accuracy_score(y_test, y_test_predict)\n",
    "print(\"Test accuracy of KNN classifier: \", accuracy_test)\n",
    "\n",
    "### Check your solution\n",
    "assert accuracy_test == 0.968, ('Check your solution.')"
   ]
  },
  {
   "cell_type": "markdown",
   "metadata": {
    "colab_type": "text",
    "id": "uXTkbXPzs42n"
   },
   "source": [
    "### Task 6 (3 points) <br/>\n",
    "\n",
    "Develop **predict_proba** method of the classifier. For each object this method returns probability that the object belongs to each of the classes. \n",
    "\n",
    "For each object $x$ probability for each class is defined as:\n",
    "\n",
    "$$\n",
    "p_{c}(x) = \\frac{g_{c}(x)}{\\sum_{i=1}^{C} g_{i}(x)}\n",
    "$$\n",
    "\n",
    "where $C$ is number of classes.\n",
    "\n",
    "Then, the object has a vector of probabilities:\n",
    "\n",
    "$$\n",
    "p(x) = (p_{1}(x), p_{2}(x), ..., p_{C}(x))\n",
    "$$\n",
    "\n",
    "Use neighbors weights as in Task 5."
   ]
  },
  {
   "cell_type": "code",
   "execution_count": 702,
   "metadata": {
    "colab": {},
    "colab_type": "code",
    "id": "ZrBLO0Cds42r"
   },
   "outputs": [
    {
     "name": "stdout",
     "output_type": "stream",
     "text": [
      "[0 1]\n",
      "found infinity at (array([1], dtype=int64),)\n"
     ]
    },
    {
     "name": "stderr",
     "output_type": "stream",
     "text": [
      "D:\\Anaconda\\lib\\site-packages\\ipykernel_launcher.py:161: RuntimeWarning: divide by zero encountered in true_divide\n"
     ]
    },
    {
     "ename": "TypeError",
     "evalue": "only integer scalar arrays can be converted to a scalar index",
     "output_type": "error",
     "traceback": [
      "\u001b[1;31m---------------------------------------------------------------------------\u001b[0m",
      "\u001b[1;31mTypeError\u001b[0m                                 Traceback (most recent call last)",
      "\u001b[1;32m<timed exec>\u001b[0m in \u001b[0;36m<module>\u001b[1;34m\u001b[0m\n",
      "\u001b[1;32m<ipython-input-695-0964b170e11f>\u001b[0m in \u001b[0;36mpredict_proba\u001b[1;34m(self, X)\u001b[0m\n\u001b[0;32m    167\u001b[0m             \u001b[1;32mif\u001b[0m \u001b[1;33m(\u001b[0m\u001b[0mlen\u001b[0m\u001b[1;33m(\u001b[0m\u001b[0mind_of_inf\u001b[0m\u001b[1;33m)\u001b[0m \u001b[1;33m==\u001b[0m \u001b[1;36m1\u001b[0m\u001b[1;33m)\u001b[0m\u001b[1;33m:\u001b[0m\u001b[1;33m\u001b[0m\u001b[1;33m\u001b[0m\u001b[0m\n\u001b[0;32m    168\u001b[0m                 \u001b[1;32mfor\u001b[0m \u001b[0mi\u001b[0m \u001b[1;32min\u001b[0m \u001b[0mnp\u001b[0m\u001b[1;33m.\u001b[0m\u001b[0mwhere\u001b[0m\u001b[1;33m(\u001b[0m\u001b[0mnp\u001b[0m\u001b[1;33m.\u001b[0m\u001b[0misinf\u001b[0m\u001b[1;33m(\u001b[0m\u001b[0mweights_for_label\u001b[0m\u001b[1;33m)\u001b[0m \u001b[1;33m==\u001b[0m \u001b[1;32mFalse\u001b[0m\u001b[1;33m)\u001b[0m\u001b[1;33m:\u001b[0m\u001b[1;33m\u001b[0m\u001b[1;33m\u001b[0m\u001b[0m\n\u001b[1;32m--> 169\u001b[1;33m                     \u001b[0mweights_for_label\u001b[0m\u001b[1;33m[\u001b[0m\u001b[0mi\u001b[0m\u001b[1;33m]\u001b[0m \u001b[1;33m=\u001b[0m \u001b[1;36m0.0\u001b[0m\u001b[1;33m\u001b[0m\u001b[1;33m\u001b[0m\u001b[0m\n\u001b[0m\u001b[0;32m    170\u001b[0m                 \u001b[0mweights_for_label\u001b[0m\u001b[1;33m[\u001b[0m\u001b[0mind_of_inf\u001b[0m\u001b[1;33m]\u001b[0m \u001b[1;33m=\u001b[0m \u001b[1;36m1.0\u001b[0m\u001b[1;33m\u001b[0m\u001b[1;33m\u001b[0m\u001b[0m\n\u001b[0;32m    171\u001b[0m \u001b[1;33m\u001b[0m\u001b[0m\n",
      "\u001b[1;31mTypeError\u001b[0m: only integer scalar arrays can be converted to a scalar index"
     ]
    },
    {
     "ename": "AssertionError",
     "evalue": "Check your solution.",
     "output_type": "error",
     "traceback": [
      "\u001b[1;31m---------------------------------------------------------------------------\u001b[0m",
      "\u001b[1;31mAssertionError\u001b[0m                            Traceback (most recent call last)",
      "\u001b[1;32m<ipython-input-702-96cf47162bda>\u001b[0m in \u001b[0;36m<module>\u001b[1;34m\u001b[0m\n\u001b[0;32m     16\u001b[0m ans = np.array([[0.046, 0.954],\n\u001b[0;32m     17\u001b[0m                 [0.962, 0.038]])\n\u001b[1;32m---> 18\u001b[1;33m \u001b[1;32massert\u001b[0m \u001b[0mnp\u001b[0m\u001b[1;33m.\u001b[0m\u001b[0marray_equal\u001b[0m\u001b[1;33m(\u001b[0m\u001b[0mnp\u001b[0m\u001b[1;33m.\u001b[0m\u001b[0mround\u001b[0m\u001b[1;33m(\u001b[0m\u001b[0my_test_predict_proba\u001b[0m\u001b[1;33m[\u001b[0m\u001b[1;33m:\u001b[0m\u001b[1;36m2\u001b[0m\u001b[1;33m]\u001b[0m\u001b[1;33m,\u001b[0m \u001b[1;36m3\u001b[0m\u001b[1;33m)\u001b[0m\u001b[1;33m,\u001b[0m \u001b[0mans\u001b[0m\u001b[1;33m)\u001b[0m\u001b[1;33m,\u001b[0m \u001b[1;33m(\u001b[0m\u001b[1;34m'Check your solution.'\u001b[0m\u001b[1;33m)\u001b[0m\u001b[1;33m\u001b[0m\u001b[1;33m\u001b[0m\u001b[0m\n\u001b[0m",
      "\u001b[1;31mAssertionError\u001b[0m: Check your solution."
     ]
    }
   ],
   "source": [
    "# Create a class object\n",
    "knn = KNNClassifier(max_dist=0.5, use_kd_tree=True, use_weights=True)\n",
    "\n",
    "# Train the classifier\n",
    "knn.fit(X_train, y_train)\n",
    "\n",
    "# Make prediction using the trained classifier\n",
    "%time y_test_predict_proba = knn.predict_proba(X_test) # measure time for prediction\n",
    "\n",
    "# Example of the output\n",
    "y_test_predict_proba[:10, :] # the first 10 rows\n",
    "\n",
    "\n",
    "\n",
    "### Check your solution\n",
    "ans = np.array([[0.046, 0.954],\n",
    "                [0.962, 0.038]])\n",
    "assert np.array_equal(np.round(y_test_predict_proba[:2], 3), ans), ('Check your solution.')"
   ]
  }
 ],
 "metadata": {
  "colab": {
   "collapsed_sections": [],
   "name": "Copy of seminar2-homework.ipynb",
   "provenance": []
  },
  "kernelspec": {
   "display_name": "Python 3",
   "language": "python",
   "name": "python3"
  },
  "language_info": {
   "codemirror_mode": {
    "name": "ipython",
    "version": 3
   },
   "file_extension": ".py",
   "mimetype": "text/x-python",
   "name": "python",
   "nbconvert_exporter": "python",
   "pygments_lexer": "ipython3",
   "version": "3.7.3"
  }
 },
 "nbformat": 4,
 "nbformat_minor": 1
}
